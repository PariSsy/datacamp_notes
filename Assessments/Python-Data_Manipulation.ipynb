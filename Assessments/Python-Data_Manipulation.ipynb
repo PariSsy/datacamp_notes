{
 "cells": [
  {
   "cell_type": "markdown",
   "metadata": {},
   "source": [
    "# Data Manipulation with Python\n",
    "\n",
    "Skills:\n",
    "* Transform\n",
    "* Dates & strings\n",
    "* Joins\n",
    "* Exploring Data\n",
    "* Clean\n",
    "\n",
    "Attempt:\n",
    "2. 2020-8-12, Score 178, Percentile 100%, Wrong 6 out of 15"
   ]
  },
  {
   "cell_type": "markdown",
   "metadata": {},
   "source": [
    "## Transform"
   ]
  },
  {
   "cell_type": "markdown",
   "metadata": {},
   "source": [
    "1. **Complete the code to return the output** (MEDIUM)"
   ]
  },
  {
   "cell_type": "code",
   "execution_count": 6,
   "metadata": {},
   "outputs": [
    {
     "data": {
      "text/html": [
       "<div>\n",
       "<style scoped>\n",
       "    .dataframe tbody tr th:only-of-type {\n",
       "        vertical-align: middle;\n",
       "    }\n",
       "\n",
       "    .dataframe tbody tr th {\n",
       "        vertical-align: top;\n",
       "    }\n",
       "\n",
       "    .dataframe thead th {\n",
       "        text-align: right;\n",
       "    }\n",
       "</style>\n",
       "<table border=\"1\" class=\"dataframe\">\n",
       "  <thead>\n",
       "    <tr style=\"text-align: right;\">\n",
       "      <th></th>\n",
       "      <th>x</th>\n",
       "      <th>y</th>\n",
       "    </tr>\n",
       "  </thead>\n",
       "  <tbody>\n",
       "    <tr>\n",
       "      <td>0</td>\n",
       "      <td>2.0</td>\n",
       "      <td>4.0</td>\n",
       "    </tr>\n",
       "    <tr>\n",
       "      <td>1</td>\n",
       "      <td>3.0</td>\n",
       "      <td>5.0</td>\n",
       "    </tr>\n",
       "  </tbody>\n",
       "</table>\n",
       "</div>"
      ],
      "text/plain": [
       "     x    y\n",
       "0  2.0  4.0\n",
       "1  3.0  5.0"
      ]
     },
     "execution_count": 6,
     "metadata": {},
     "output_type": "execute_result"
    }
   ],
   "source": [
    "import pandas as pd\n",
    "import numpy as np\n",
    "\n",
    "df = {\n",
    "    \"x\":[4,9],\n",
    "    \"y\":[16,25]\n",
    "}\n",
    "df = pd.DataFrame(df)\n",
    "\n",
    "df.apply(np.sqrt)"
   ]
  },
  {
   "cell_type": "markdown",
   "metadata": {},
   "source": [
    "## Dates & Strings"
   ]
  },
  {
   "cell_type": "markdown",
   "metadata": {},
   "source": [
    "1. **Add one day to the datetime object `leap_day`** (HARD)"
   ]
  },
  {
   "cell_type": "code",
   "execution_count": 4,
   "metadata": {},
   "outputs": [
    {
     "name": "stdout",
     "output_type": "stream",
     "text": [
      "2020-02-29 13:59:03 \n",
      " 2020-03-01 13:59:03\n"
     ]
    }
   ],
   "source": [
    "from datetime import datetime, timedelta\n",
    "\n",
    "leap_day = datetime(2020, 2, 29, 13, 59, 3)\n",
    "next_day = leap_day + timedelta(days = 1)\n",
    "print(leap_day,\"\\n\",next_day)"
   ]
  },
  {
   "cell_type": "markdown",
   "metadata": {},
   "source": [
    "2. **The `sales` DataFrame shows the number of items sold on a number of individual dates.**\n",
    "  + Calculate the mean number of items for each month. (MEDIUM)\n",
    "  + Calculate the number of dates recorded in each month. (MEDIUM)"
   ]
  },
  {
   "cell_type": "code",
   "execution_count": 25,
   "metadata": {},
   "outputs": [
    {
     "name": "stdout",
     "output_type": "stream",
     "text": [
      "            items_sold\n",
      "date_new              \n",
      "2019-10-31        31.5\n",
      "2019-11-30       101.0 \n",
      "\n",
      "date_new\n",
      "2019-10-31    4\n",
      "2019-11-30    1\n",
      "Freq: M, dtype: int64\n"
     ]
    }
   ],
   "source": [
    "# Creating DataFrame\n",
    "sales = {\n",
    "    \"date\":[\n",
    "        \"2019-10-06\",\n",
    "        \"2019-10-15\",\n",
    "        \"2019-10-24\",\n",
    "        \"2019-10-30\",\n",
    "        \"2019-11-05\"\n",
    "    ],\n",
    "    \"items_sold\":[26,12,82,6,101]\n",
    "}\n",
    "sales = pd.DataFrame(sales)\n",
    "\n",
    "date_new = []\n",
    "for d in sales[\"date\"]:\n",
    "    string = datetime.strptime(d, '%Y-%m-%d')\n",
    "    date_new.append(string)\n",
    "sales[\"date_new\"] = date_new\n",
    "\n",
    "# Code below\n",
    "monthly = sales.resample('M', on = 'date_new')\n",
    "print(monthly.mean(),\"\\n\")\n",
    "print(monthly.size())"
   ]
  },
  {
   "cell_type": "markdown",
   "metadata": {},
   "source": [
    "3. **Complete the code to return the output** (MEDIUM)"
   ]
  },
  {
   "cell_type": "code",
   "execution_count": 23,
   "metadata": {},
   "outputs": [
    {
     "data": {
      "text/plain": [
       "2018"
      ]
     },
     "execution_count": 23,
     "metadata": {},
     "output_type": "execute_result"
    }
   ],
   "source": [
    "from datetime import date\n",
    "\n",
    "d = date(2018, 10, 28)\n",
    "d.year"
   ]
  },
  {
   "cell_type": "markdown",
   "metadata": {},
   "source": [
    "4. **Create a datetime object to represent 13:59:03 on February 29th 2020.** (HARD)"
   ]
  },
  {
   "cell_type": "code",
   "execution_count": 27,
   "metadata": {},
   "outputs": [
    {
     "name": "stdout",
     "output_type": "stream",
     "text": [
      "2020-02-29 13:59:03\n"
     ]
    }
   ],
   "source": [
    "from datetime import datetime\n",
    "\n",
    "leap_day = datetime(2020, 2, 29, 13, 59, 3)\n",
    "print(leap_day)"
   ]
  },
  {
   "cell_type": "markdown",
   "metadata": {},
   "source": [
    "5. **Complete the code to return the output** (HARD)"
   ]
  },
  {
   "cell_type": "code",
   "execution_count": 33,
   "metadata": {},
   "outputs": [
    {
     "name": "stdout",
     "output_type": "stream",
     "text": [
      "2010-10-05 13:30:04\n"
     ]
    }
   ],
   "source": [
    "import datetime as dt\n",
    "\n",
    "start = dt.datetime(2010, 10, 5, 13, 30, 2)\n",
    "delta = dt.timedelta(seconds = 2)\n",
    "\n",
    "print(start + delta)"
   ]
  },
  {
   "cell_type": "markdown",
   "metadata": {},
   "source": [
    "6. **The `date_str` list contains a series of dates that need to be converted into `datetime` objects. The format of the dates has been provided for you in the `fmt` object.** (HARD)"
   ]
  },
  {
   "cell_type": "code",
   "execution_count": 36,
   "metadata": {},
   "outputs": [
    {
     "name": "stdout",
     "output_type": "stream",
     "text": [
      "[datetime.datetime(2019, 10, 6, 0, 0), datetime.datetime(2019, 11, 5, 0, 0), datetime.datetime(2019, 12, 13, 0, 0)]\n"
     ]
    }
   ],
   "source": [
    "from datetime import datetime\n",
    "\n",
    "date_str = ['Oct 06 2019', 'Nov 05 2019', 'Dec 13 2019']\n",
    "\n",
    "date_correct = []\n",
    "fmt = '%b %d %Y'\n",
    "\n",
    "for date in date_str:\n",
    "  # convert the strings to datetime \n",
    "  date_fmt = datetime.strptime(date,fmt)\n",
    "  \n",
    "  # add the correctly formatted date to the list\n",
    "  date_correct.append(date_fmt)\n",
    "\n",
    "print(date_correct)"
   ]
  },
  {
   "cell_type": "markdown",
   "metadata": {},
   "source": [
    "7. **Complete the code to return the output** (HARD)"
   ]
  },
  {
   "cell_type": "code",
   "execution_count": 37,
   "metadata": {},
   "outputs": [
    {
     "data": {
      "text/plain": [
       "0     APPLE\n",
       "1    BANANA\n",
       "2     APPLE\n",
       "3    BANANA\n",
       "dtype: object"
      ]
     },
     "execution_count": 37,
     "metadata": {},
     "output_type": "execute_result"
    }
   ],
   "source": [
    "import numpy as np\n",
    "import pandas as pd\n",
    "\n",
    "data = pd.Series(['apple','banana','apple', 'banana'])\n",
    "data.str.upper()"
   ]
  },
  {
   "cell_type": "markdown",
   "metadata": {},
   "source": [
    "## Joins\n",
    "\n",
    "* Join on columns with different names - `print(pd.merge(df1, df2, left_on=\"var1\", right_on=\"var2\"))`\n",
    "* Outer join = `print(pd.merge(df1, df2, on=\"var\", how=\"outer\"))`"
   ]
  },
  {
   "cell_type": "markdown",
   "metadata": {},
   "source": [
    "1. **Combine the following DataFrames `df` and `df2` to match the output.** (MEDIUM)"
   ]
  },
  {
   "cell_type": "code",
   "execution_count": 26,
   "metadata": {},
   "outputs": [
    {
     "data": {
      "text/html": [
       "<div>\n",
       "<style scoped>\n",
       "    .dataframe tbody tr th:only-of-type {\n",
       "        vertical-align: middle;\n",
       "    }\n",
       "\n",
       "    .dataframe tbody tr th {\n",
       "        vertical-align: top;\n",
       "    }\n",
       "\n",
       "    .dataframe thead th {\n",
       "        text-align: right;\n",
       "    }\n",
       "</style>\n",
       "<table border=\"1\" class=\"dataframe\">\n",
       "  <thead>\n",
       "    <tr style=\"text-align: right;\">\n",
       "      <th></th>\n",
       "      <th>eggs</th>\n",
       "      <th>salt</th>\n",
       "    </tr>\n",
       "  </thead>\n",
       "  <tbody>\n",
       "    <tr>\n",
       "      <td>0</td>\n",
       "      <td>10</td>\n",
       "      <td>12.0</td>\n",
       "    </tr>\n",
       "    <tr>\n",
       "      <td>1</td>\n",
       "      <td>5</td>\n",
       "      <td>14.0</td>\n",
       "    </tr>\n",
       "  </tbody>\n",
       "</table>\n",
       "</div>"
      ],
      "text/plain": [
       "   eggs  salt\n",
       "0    10  12.0\n",
       "1     5  14.0"
      ]
     },
     "execution_count": 26,
     "metadata": {},
     "output_type": "execute_result"
    }
   ],
   "source": [
    "# Creating DFs\n",
    "df = pd.DataFrame(\n",
    "    {\n",
    "        \"eggs\":[10,5]\n",
    "    }\n",
    ")\n",
    "df2 = pd.DataFrame(\n",
    "    {\n",
    "        \"salt\":[12.0,14.0]\n",
    "    }\n",
    ")\n",
    "\n",
    "pd.concat([df, df2], axis=1)"
   ]
  },
  {
   "cell_type": "markdown",
   "metadata": {},
   "source": [
    "## Exploring Data"
   ]
  },
  {
   "cell_type": "markdown",
   "metadata": {},
   "source": [
    "1. **Select the three rows having the smallest values in the `population` column.** (HARD)"
   ]
  },
  {
   "cell_type": "code",
   "execution_count": 32,
   "metadata": {},
   "outputs": [
    {
     "name": "stdout",
     "output_type": "stream",
     "text": [
      "        country  population       GDP\n",
      "0         Brics   210354000    186818\n",
      "1        Russia   146780720   1657290\n",
      "2         India  1387297452   2718732\n",
      "3         China  1433783686  13368073\n",
      "4  South Africa    58558270    368135 \n",
      "\n"
     ]
    },
    {
     "data": {
      "text/html": [
       "<div>\n",
       "<style scoped>\n",
       "    .dataframe tbody tr th:only-of-type {\n",
       "        vertical-align: middle;\n",
       "    }\n",
       "\n",
       "    .dataframe tbody tr th {\n",
       "        vertical-align: top;\n",
       "    }\n",
       "\n",
       "    .dataframe thead th {\n",
       "        text-align: right;\n",
       "    }\n",
       "</style>\n",
       "<table border=\"1\" class=\"dataframe\">\n",
       "  <thead>\n",
       "    <tr style=\"text-align: right;\">\n",
       "      <th></th>\n",
       "      <th>country</th>\n",
       "      <th>population</th>\n",
       "      <th>GDP</th>\n",
       "    </tr>\n",
       "  </thead>\n",
       "  <tbody>\n",
       "    <tr>\n",
       "      <td>4</td>\n",
       "      <td>South Africa</td>\n",
       "      <td>58558270</td>\n",
       "      <td>368135</td>\n",
       "    </tr>\n",
       "    <tr>\n",
       "      <td>1</td>\n",
       "      <td>Russia</td>\n",
       "      <td>146780720</td>\n",
       "      <td>1657290</td>\n",
       "    </tr>\n",
       "    <tr>\n",
       "      <td>0</td>\n",
       "      <td>Brics</td>\n",
       "      <td>210354000</td>\n",
       "      <td>186818</td>\n",
       "    </tr>\n",
       "  </tbody>\n",
       "</table>\n",
       "</div>"
      ],
      "text/plain": [
       "        country  population      GDP\n",
       "4  South Africa    58558270   368135\n",
       "1        Russia   146780720  1657290\n",
       "0         Brics   210354000   186818"
      ]
     },
     "execution_count": 32,
     "metadata": {},
     "output_type": "execute_result"
    }
   ],
   "source": [
    "df = pd.DataFrame(\n",
    "    {\n",
    "        \"country\":[\"Brics\",\"Russia\",\"India\",\"China\",\"South Africa\"],\n",
    "        \"population\":[210354000,146780720,1387297452,1433783686,58558270],\n",
    "        \"GDP\":[186818,1657290,2718732,13368073,368135]\n",
    "    }\n",
    ")\n",
    "df.set_index([\"country\"])\n",
    "\n",
    "print(df,\"\\n\")\n",
    "df.nsmallest(3, 'population')"
   ]
  },
  {
   "cell_type": "markdown",
   "metadata": {},
   "source": [
    "## Clean"
   ]
  },
  {
   "cell_type": "markdown",
   "metadata": {},
   "source": [
    "1. **Complete the code to return the output** (HARD)"
   ]
  },
  {
   "cell_type": "code",
   "execution_count": 35,
   "metadata": {},
   "outputs": [
    {
     "name": "stdout",
     "output_type": "stream",
     "text": [
      "   id  age  group_a  group_b\n",
      "0   1   12     True    False\n",
      "1   2   45     True     True \n",
      "\n"
     ]
    },
    {
     "data": {
      "text/html": [
       "<div>\n",
       "<style scoped>\n",
       "    .dataframe tbody tr th:only-of-type {\n",
       "        vertical-align: middle;\n",
       "    }\n",
       "\n",
       "    .dataframe tbody tr th {\n",
       "        vertical-align: top;\n",
       "    }\n",
       "\n",
       "    .dataframe thead th {\n",
       "        text-align: right;\n",
       "    }\n",
       "</style>\n",
       "<table border=\"1\" class=\"dataframe\">\n",
       "  <thead>\n",
       "    <tr style=\"text-align: right;\">\n",
       "      <th></th>\n",
       "      <th>id</th>\n",
       "      <th>age</th>\n",
       "      <th>variable</th>\n",
       "      <th>value</th>\n",
       "    </tr>\n",
       "  </thead>\n",
       "  <tbody>\n",
       "    <tr>\n",
       "      <td>0</td>\n",
       "      <td>1</td>\n",
       "      <td>12</td>\n",
       "      <td>group_a</td>\n",
       "      <td>True</td>\n",
       "    </tr>\n",
       "    <tr>\n",
       "      <td>1</td>\n",
       "      <td>2</td>\n",
       "      <td>45</td>\n",
       "      <td>group_a</td>\n",
       "      <td>True</td>\n",
       "    </tr>\n",
       "    <tr>\n",
       "      <td>2</td>\n",
       "      <td>1</td>\n",
       "      <td>12</td>\n",
       "      <td>group_b</td>\n",
       "      <td>False</td>\n",
       "    </tr>\n",
       "    <tr>\n",
       "      <td>3</td>\n",
       "      <td>2</td>\n",
       "      <td>45</td>\n",
       "      <td>group_b</td>\n",
       "      <td>True</td>\n",
       "    </tr>\n",
       "  </tbody>\n",
       "</table>\n",
       "</div>"
      ],
      "text/plain": [
       "   id  age variable  value\n",
       "0   1   12  group_a   True\n",
       "1   2   45  group_a   True\n",
       "2   1   12  group_b  False\n",
       "3   2   45  group_b   True"
      ]
     },
     "execution_count": 35,
     "metadata": {},
     "output_type": "execute_result"
    }
   ],
   "source": [
    "df = pd.DataFrame(\n",
    "    {\n",
    "        \"id\":[1,2],\n",
    "        \"age\":[12,45],\n",
    "        \"group_a\":[True,True],\n",
    "        \"group_b\":[False,True]\n",
    "    }\n",
    ")\n",
    "\n",
    "print(df,\"\\n\")\n",
    "df.melt(id_vars = [\"id\",\"age\"], value_vars = [\"group_a\",\"group_b\"])"
   ]
  }
 ],
 "metadata": {
  "kernelspec": {
   "display_name": "Python 3",
   "language": "python",
   "name": "python3"
  },
  "language_info": {
   "codemirror_mode": {
    "name": "ipython",
    "version": 3
   },
   "file_extension": ".py",
   "mimetype": "text/x-python",
   "name": "python",
   "nbconvert_exporter": "python",
   "pygments_lexer": "ipython3",
   "version": "3.7.4"
  }
 },
 "nbformat": 4,
 "nbformat_minor": 2
}
