{
 "cells": [
  {
   "cell_type": "markdown",
   "metadata": {},
   "source": [
    "# Python Programming\n",
    "\n",
    "Topics Covered:\n",
    "1. Developing packages and unit testing with `pytest`\n",
    "2. Object-oriented programming\n",
    "3. Using and writing functions\n",
    "4. Control flow and loops\n",
    "5. Defining data structures, including `numpy` and `pandas` objects\n",
    "6. Techniques for establishing code efficiencies"
   ]
  }
 ],
 "metadata": {
  "kernelspec": {
   "display_name": "Python 3",
   "language": "python",
   "name": "python3"
  },
  "language_info": {
   "codemirror_mode": {
    "name": "ipython",
    "version": 3
   },
   "file_extension": ".py",
   "mimetype": "text/x-python",
   "name": "python",
   "nbconvert_exporter": "python",
   "pygments_lexer": "ipython3",
   "version": "3.7.4"
  }
 },
 "nbformat": 4,
 "nbformat_minor": 2
}
