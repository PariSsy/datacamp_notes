{
 "cells": [
  {
   "cell_type": "markdown",
   "metadata": {},
   "source": [
    "# Data Manipulation with pandas\n",
    "Instructor:   \n",
    "Note taker: Paris Zhang on Friday, Aug 7, 2020\n",
    "\n",
    "**Course structure**\n",
    "1. DataFrames\n",
    "  + Sorting and subsetting\n",
    "  + Creating new columns\n",
    "2. Aggregating data\n",
    "  + Summary statistics\n",
    "  + Counting\n",
    "  + Grouped summary statistics\n",
    "3. Slicing and indexing data\n",
    "  + Subseting using slicing\n",
    "  + Indexes and subsetting using indexes\n",
    "4. Creating and visualizing data\n",
    "  + Plotting\n",
    "  + Handling missing data\n",
    "  + Reading data into a DataFrame\n",
    "  \n",
    "## Chapter 1 - DataFrames\n",
    "### 1.1 Intro to DataFrame\n",
    "* Fundamental methods/attributes: `.head()`, `.info()`, `.shape`, `.describe()`\n",
    "* Components of a DataFrame: `.values`, `.columns` and `.index`:\n",
    "  + `.columns` returns `Index(['name','breed'])`\n",
    "  + `.index` returns `RangeIndex(start=0, stop=7, step=1)`\n",
    "\n",
    "### 1.2 Sorting and subsetting\n",
    "* Sorting with `.sort_values()` - `dt.sort_values(\"weight_kg\")`\n",
    "* Soring in descending order - `dt.sort_values(\"weight_kg\", ascending=False)`\n",
    "* Sorting multiple variables - `dt.sort_values([var1, var2], ascending=[True, False])`\n",
    "* Subsetting columns - `dt[var]`\n",
    "* Subsetting multiple columns - `dt[[var1, var2]]`\n",
    "* Subsetting using `.isin()` - `dt[dt[var].isin([\"A\",\"B\"])]`\n",
    "\n",
    "## Chapter 2 - Aggregating Data\n",
    "### 2.1 Summary statistics\n",
    "* `.median()`, `.mode()`, `.min()`, `.max()`, `.var()`, `.std()`, `.sum()`, `.quantile()`\n",
    "* Use `.agg()` method in a function"
   ]
  },
  {
   "cell_type": "code",
   "execution_count": null,
   "metadata": {},
   "outputs": [],
   "source": [
    "def pct30(column):\n",
    "    return column.quantile(0.3)\n",
    "\n",
    "def pct40(column):\n",
    "    return column.quantile(0.4)\n",
    "\n",
    "# Single summary\n",
    "dogs[\"weight_kg\"].agg(pct30)\n",
    "# Single summary for multiple columns\n",
    "dogs[[\"weight_kg\",\"height_cm\"]].agg(pct30)\n",
    "# Multiple summaries\n",
    "dogs[\"weight_kg\"].agg([pct30, pct40])"
   ]
  },
  {
   "cell_type": "markdown",
   "metadata": {},
   "source": [
    "* Cumulative statistics - `.cumsum()`, `.cummax()`, `.cummin()`, `.cumprod()`\n",
    "\n",
    "### 2.2 Counting\n",
    "* Dropping duplicate names, `.drop_duplicates()` - `vet_visits.drop_duplicates(subset=\"name\")`\n",
    "* Dropping duplicate pairs - `vet_visits.drop_duplicates(subset=[\"name\",\"breed\"])`\n",
    "* Counting, `.value_counts()` - `dt[var].value_counts(sort=True)`, other arguments `normalize=True`\n",
    "\n",
    "### 2.3 Grouped summary statistics\n",
    "* Grouped summaries, `.groupby()` - `dogs.groupby(\"color\")[\"weight_kg\"].mean()`\n",
    "* Multiple grouped summaries - `dogs.groupby(\"color\")[\"weight_kg\"].agg([min, max, sum])`\n",
    "* Grouping by multiple variables - `dogs.groupby([\"color\",\"breed\"])[\"weight_kg\"].mean()`\n",
    "* Many groups, many summaries:\n",
    "  + `dogs.groupby([\"color\",\"breed\"])[[\"weight_kg\",\"height_cm\"]].mean()`\n",
    "\n",
    "### 2.4 Pivot tables\n",
    "* From `.groupby()` to `.pivot_table()`\n",
    "  + `dogs.groupby(\"color\")[\"weight_kg\"].mean()`\n",
    "  + `dogs.pivot_table(values=\"weight_kg\",index=\"color\")`\n",
    "* Different statistics:"
   ]
  },
  {
   "cell_type": "code",
   "execution_count": null,
   "metadata": {},
   "outputs": [],
   "source": [
    "import numpy as np\n",
    "\n",
    "dogs.pivot_table(values=\"weight_kg\", index=\"color\", aggfunc=np.median)\n",
    "dogs.pivot_table(values=\"weight_kg\", index=\"color\", aggfunc=[np.mean, np.median])"
   ]
  },
  {
   "cell_type": "markdown",
   "metadata": {},
   "source": [
    "* Pivot on two variables (calculates mean):\n",
    "  + `dogs.groupby([\"color\",\"breed\"])[\"weight_kg\"].mean()`\n",
    "  + `dogs.pivot_table(values=\"weight_kg\", index=\"color\", columns=\"breed\")`\n",
    "* Filling missing values in pivottables:\n",
    "  + `dogs.pivot_table(values=\"weight_kg\", index=\"color\", columns=\"breed\", fill_value=0)`\n",
    "* Summing with two pivot tables - argument `margins=True`\n",
    "\n",
    "## Chapter 3 - Slicing and indexing\n",
    "\n",
    "### 3.1 Explicit indexes\n",
    "* `.columns` returns an index list of column names and the data type\n",
    "  + Input = `dog.columns`, output = `Index(['name','breed','color','height_cm','weight_kg'], dtype='object')`\n",
    "* `.index` returns a range index\n",
    "  + Input = `dog.index`, output = `RangeIndex(start=0, stop=7, step=1)`\n",
    "* Setting a column as the index, `.set_index()` - `dogs.set_index(\"name\")`. **Index values don't need to be unique**.\n",
    "* Removing an index - `dogs_ind.reset_index()`\n",
    "* Dropping an index - `dogs_ind.reset_index(drop=True)`\n",
    "* Subsetting with index:\n",
    "  + `dogs[dogs[\"name\"].isin([\"Bella\",\"Stella\"])]`\n",
    "  + `dogs_ind.loc[[\"Bella\",\"Stella\"]]`\n",
    "* Subsetting on duplicated - `dogs_ind2.loc[\"Labrador\"]` returns two rows with the same index \"Labrador\"\n",
    "* Multi-level / Hierarchical indexes - `dogs.set_index([\"breed\",\"color\"])`\n",
    "* Subset the outer level with a list - `dogs_ind3.loc[[\"Labrador\",\"Chihuahua\"]]`\n",
    "* Subsetinner levels with a list oftuples - `dogs_ind3.loc[[(\"Labrador\",\"Brown\"), (\"Chihuahua\",\"Tan\")]]`\n",
    "* Sorting by index values - `.sort_index()`.\n",
    "* Controlling `.sort_index()` - `dogs_ind3.sort_index(level=[\"color\",\"breed\"], ascending=[True, False])`\n",
    "  + You can only slice an index if the index is sorted (using `.sort_index()`).\n",
    "  + To slice at the outer level, `first` and `last` can be strings.\n",
    "  + To slice at inner levels, `first` and `last` should be tuples.\n",
    "  + If you pass a single slice to `.loc[]`, it will slice the rows.\n",
    "\n",
    "### 3.2 Slicing and subsetting with `.loc` and `.iloc`\n",
    "* Sort the index before slicing - `dogs.set_index([\"breed\",\"color\"]).sort_index()`\n",
    "* Slicing the outer index level - `dogs_srt.loc[\"Chow Chow\":\"Poodle\"]`, the final value \"Poodle\" is included\n",
    "* Slicing the inner index levels - `dogs_srt.loc[(\"Labrador\",\"Brown\"):(\"Schnauzer\",\"Grey\")]`\n",
    "* Slicing columns - `dogs_srt.loc[:,\"name\":\"height_cm\"]`\n",
    "* Slicing by partial dates - `dogs.loc[\"2014\":\"2016\"]`\n",
    "* Subsetting by row/column number - `print(dogs.iloc[2:5, 1:4])`\n",
    "\n",
    "### 3.3 Working with pivot tables\n",
    "* Calculating summary statistics by row - `.mean(axis=\"index\")`, by column - `.mean(axis=\"columns\")`\n",
    "\n",
    "\n",
    "## Chapter 4 - Creating and Visualizing DataFrames\n",
    "\n",
    "### 4.1 Visualizing data"
   ]
  },
  {
   "cell_type": "code",
   "execution_count": 6,
   "metadata": {},
   "outputs": [
    {
     "data": {
      "text/html": [
       "<div>\n",
       "<style scoped>\n",
       "    .dataframe tbody tr th:only-of-type {\n",
       "        vertical-align: middle;\n",
       "    }\n",
       "\n",
       "    .dataframe tbody tr th {\n",
       "        vertical-align: top;\n",
       "    }\n",
       "\n",
       "    .dataframe thead th {\n",
       "        text-align: right;\n",
       "    }\n",
       "</style>\n",
       "<table border=\"1\" class=\"dataframe\">\n",
       "  <thead>\n",
       "    <tr style=\"text-align: right;\">\n",
       "      <th></th>\n",
       "      <th>date</th>\n",
       "      <th>type</th>\n",
       "      <th>year</th>\n",
       "      <th>avg_price</th>\n",
       "      <th>size</th>\n",
       "      <th>nb_sold</th>\n",
       "    </tr>\n",
       "  </thead>\n",
       "  <tbody>\n",
       "    <tr>\n",
       "      <td>0</td>\n",
       "      <td>2015-12-27</td>\n",
       "      <td>conventional</td>\n",
       "      <td>2015</td>\n",
       "      <td>0.95</td>\n",
       "      <td>small</td>\n",
       "      <td>9626901.09</td>\n",
       "    </tr>\n",
       "    <tr>\n",
       "      <td>1</td>\n",
       "      <td>2015-12-20</td>\n",
       "      <td>conventional</td>\n",
       "      <td>2015</td>\n",
       "      <td>0.98</td>\n",
       "      <td>small</td>\n",
       "      <td>8710021.76</td>\n",
       "    </tr>\n",
       "    <tr>\n",
       "      <td>2</td>\n",
       "      <td>2015-12-13</td>\n",
       "      <td>conventional</td>\n",
       "      <td>2015</td>\n",
       "      <td>0.93</td>\n",
       "      <td>small</td>\n",
       "      <td>9855053.66</td>\n",
       "    </tr>\n",
       "    <tr>\n",
       "      <td>3</td>\n",
       "      <td>2015-12-06</td>\n",
       "      <td>conventional</td>\n",
       "      <td>2015</td>\n",
       "      <td>0.89</td>\n",
       "      <td>small</td>\n",
       "      <td>9405464.36</td>\n",
       "    </tr>\n",
       "    <tr>\n",
       "      <td>4</td>\n",
       "      <td>2015-11-29</td>\n",
       "      <td>conventional</td>\n",
       "      <td>2015</td>\n",
       "      <td>0.99</td>\n",
       "      <td>small</td>\n",
       "      <td>8094803.56</td>\n",
       "    </tr>\n",
       "  </tbody>\n",
       "</table>\n",
       "</div>"
      ],
      "text/plain": [
       "         date          type  year  avg_price   size     nb_sold\n",
       "0  2015-12-27  conventional  2015       0.95  small  9626901.09\n",
       "1  2015-12-20  conventional  2015       0.98  small  8710021.76\n",
       "2  2015-12-13  conventional  2015       0.93  small  9855053.66\n",
       "3  2015-12-06  conventional  2015       0.89  small  9405464.36\n",
       "4  2015-11-29  conventional  2015       0.99  small  8094803.56"
      ]
     },
     "execution_count": 6,
     "metadata": {},
     "output_type": "execute_result"
    }
   ],
   "source": [
    "import pandas as pd\n",
    "import matplotlib.pyplot as plt\n",
    "import pickle\n",
    "\n",
    "with open('avoplotto.pkl', 'rb') as f:\n",
    "    avocados = pickle.load(f)\n",
    "    \n",
    "avocados.head()"
   ]
  },
  {
   "cell_type": "code",
   "execution_count": 11,
   "metadata": {},
   "outputs": [
    {
     "data": {
      "image/png": "[encoded data removed]",
      "text/plain": [
       "<Figure size 432x288 with 1 Axes>"
      ]
     },
     "metadata": {
      "needs_background": "light"
     },
     "output_type": "display_data"
    }
   ],
   "source": [
    "# Get the total number of avocados sold of each size\n",
    "nb_sold_by_size = avocados.groupby(\"size\")[\"nb_sold\"].sum()\n",
    "\n",
    "nb_sold_by_size.plot(kind='bar',title=\"Avocado sales by size\",rot=45)\n",
    "plt.show()"
   ]
  },
  {
   "cell_type": "code",
   "execution_count": 14,
   "metadata": {},
   "outputs": [
    {
     "data": {
      "image/png": "[encoded data removed]",
      "text/plain": [
       "<Figure size 432x288 with 1 Axes>"
      ]
     },
     "metadata": {
      "needs_background": "light"
     },
     "output_type": "display_data"
    }
   ],
   "source": [
    "# Get the total number of avocados sold on each date\n",
    "nb_sold_by_date = avocados.set_index(\"type\").groupby(\"date\")[\"nb_sold\"].sum()\n",
    "\n",
    "nb_sold_by_date.plot(kind=\"line\",title=\"Avocado sales by date\",rot=45)\n",
    "plt.show()"
   ]
  },
  {
   "cell_type": "code",
   "execution_count": 15,
   "metadata": {},
   "outputs": [
    {
     "data": {
      "image/png": "[encoded data removed]",
      "text/plain": [
       "<Figure size 432x288 with 1 Axes>"
      ]
     },
     "metadata": {
      "needs_background": "light"
     },
     "output_type": "display_data"
    }
   ],
   "source": [
    "avocados[avocados[\"type\"] == \"conventional\"][\"avg_price\"].hist(alpha=0.5,bins=20)\n",
    "avocados[avocados[\"type\"] == \"organic\"][\"avg_price\"].hist(alpha=0.5,bins=20)\n",
    "plt.legend([\"conventional\", \"organic\"])\n",
    "plt.show()"
   ]
  },
  {
   "cell_type": "markdown",
   "metadata": {},
   "source": [
    "### 4.2 Missing values\n",
    "* Detecting missing values with `.isna()` returns a boolean DataFrame\n",
    "* Detecting missing values with `.isna().any()` returns a boolean vector that shows if a column has missing values or not\n",
    "* Counting missing values - `.isna().sum()`\n",
    "* Plotting missing values - `.isna().sum().plot(kind=\"bar\")`\n",
    "* Removing missing values - `.dropna()`\n",
    "* Replacing missing values - `.fillna(0)`"
   ]
  },
  {
   "cell_type": "code",
   "execution_count": 16,
   "metadata": {},
   "outputs": [
    {
     "data": {
      "image/png": "[encoded data removed]",
      "text/plain": [
       "<Figure size 432x288 with 1 Axes>"
      ]
     },
     "metadata": {
      "needs_background": "light"
     },
     "output_type": "display_data"
    }
   ],
   "source": [
    "avocados.isna().sum().plot(kind=\"bar\")\n",
    "plt.show()"
   ]
  },
  {
   "cell_type": "code",
   "execution_count": 18,
   "metadata": {},
   "outputs": [
    {
     "data": {
      "image/png": "[encoded data removed]",
      "text/plain": [
       "<Figure size 432x288 with 4 Axes>"
      ]
     },
     "metadata": {
      "needs_background": "light"
     },
     "output_type": "display_data"
    }
   ],
   "source": [
    "avocados.hist()\n",
    "plt.show()"
   ]
  },
  {
   "cell_type": "markdown",
   "metadata": {},
   "source": [
    "### 4.3 Creating DataFrames"
   ]
  },
  {
   "cell_type": "code",
   "execution_count": 19,
   "metadata": {},
   "outputs": [
    {
     "name": "stdout",
     "output_type": "stream",
     "text": [
      "{'title': \"Charlotte's Web\", 'author': 'E.B. White', 'published': 1952}\n"
     ]
    }
   ],
   "source": [
    "# Definition of a dictionary:\n",
    "my_dict = {\n",
    "\"title\": \"Charlotte's Web\",\n",
    "\"author\": \"E.B. White\",\n",
    "\"published\": 1952\n",
    "}\n",
    "print(my_dict)"
   ]
  },
  {
   "cell_type": "markdown",
   "metadata": {},
   "source": [
    "Constructing a DataFrame:\n",
    "  + From a list of dictionaries - Constructed row by row\n",
    "  + From a dictionary of lists - Constructed column by column"
   ]
  },
  {
   "cell_type": "code",
   "execution_count": 20,
   "metadata": {},
   "outputs": [
    {
     "name": "stdout",
     "output_type": "stream",
     "text": [
      "     name      breed  height_cm  weight_kg date_of_birth\n",
      "0  Ginger  Dachshund         22         10    2019-03-14\n",
      "1   Scout  Dalmatian         59         25    2019-05-09\n"
     ]
    }
   ],
   "source": [
    "# List of dictionaries - by row\n",
    "list_of_dicts = [\n",
    "    {\"name\": \"Ginger\",\n",
    "     \"breed\": \"Dachshund\",\n",
    "     \"height_cm\": 22,\n",
    "     \"weight_kg\": 10,\n",
    "     \"date_of_birth\": \"2019-03-14\"},\n",
    "    \n",
    "    {\"name\": \"Scout\",\n",
    "     \"breed\": \"Dalmatian\",\n",
    "     \"height_cm\": 59,\n",
    "     \"weight_kg\": 25,\n",
    "     \"date_of_birth\": \"2019-05-09\"}\n",
    "]\n",
    "new_dogs = pd.DataFrame(list_of_dicts)\n",
    "print(new_dogs)"
   ]
  },
  {
   "cell_type": "code",
   "execution_count": 21,
   "metadata": {},
   "outputs": [
    {
     "name": "stdout",
     "output_type": "stream",
     "text": [
      "     name      breed  height_cm  weight_kg date_of_birth\n",
      "0  Ginger  Dachshund         22         10    2019-03-14\n",
      "1   Scout  Dalmatian         59         25    2019-05-09\n"
     ]
    }
   ],
   "source": [
    "# Dictionary of lists - by column\n",
    "dict_of_lists = {\n",
    "    \"name\": [\"Ginger\",\"Scout\"],\n",
    "    \"breed\": [\"Dachshund\",\"Dalmatian\"],\n",
    "    \"height_cm\": [22, 59],\n",
    "    \"weight_kg\": [10, 25],\n",
    "    \"date_of_birth\": [\"2019-03-14\",\"2019-05-09\"]\n",
    "}\n",
    "new_dogs = pd.DataFrame(dict_of_lists)\n",
    "print(new_dogs)"
   ]
  },
  {
   "cell_type": "markdown",
   "metadata": {},
   "source": [
    "### 4.4 Reading and writing CSVs\n",
    "* Read csv - `pd.read_csv()`\n",
    "* Write csv - `DataFrame.to_csv()`"
   ]
  },
  {
   "cell_type": "code",
   "execution_count": null,
   "metadata": {},
   "outputs": [],
   "source": []
  }
 ],
 "metadata": {
  "kernelspec": {
   "display_name": "Python 3",
   "language": "python",
   "name": "python3"
  },
  "language_info": {
   "codemirror_mode": {
    "name": "ipython",
    "version": 3
   },
   "file_extension": ".py",
   "mimetype": "text/x-python",
   "name": "python",
   "nbconvert_exporter": "python",
   "pygments_lexer": "ipython3",
   "version": "3.7.4"
  }
 },
 "nbformat": 4,
 "nbformat_minor": 2
}
