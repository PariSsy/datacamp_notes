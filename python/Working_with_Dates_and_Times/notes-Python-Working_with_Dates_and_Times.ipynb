{
 "cells": [
  {
   "cell_type": "markdown",
   "metadata": {},
   "source": [
    "# Working with Dates and Times in Python\n",
    "Instructor: Max Shron ([course link](https://learn.datacamp.com/courses/working-with-dates-and-times-in-python))  \n",
    "Note Taker: Paris Zhang on Aug 15, 2020\n",
    "\n",
    "Course Overview:\n",
    "* Chapter 1: Dates and Calendars\n",
    " + The `date()` class takes a year, month, and day as arguments\n",
    " + A `date` object has accessors like `.year`, and also methods like `.weekday()`\n",
    " + `date` objects can be compared like numbers, using `min()` , `max()` , and `sort()`\n",
    " + You can subtract one `date` from another to get a `timedelta`\n",
    " + To turn `date` objects into strings, use the `.isoformat()` or `.strftime()` methods\n",
    "* Chapter 2: Combining Dates and Times\n",
    " + The `datetime()` class takes allthe arguments of `date()` , plus an hour, minute, second, and microsecond\n",
    " + All ofthe additional arguments are optional; otherwise,they're set to zero by default\n",
    " + You can replace any value in a `datetime` with the `.replace()` method\n",
    " + Convert a `timedelta` into an integer with its `.total_seconds()` method\n",
    " + Turn strings into dates with `.strptime()` and dates into strings with `.strftime()`\n",
    "* Chapter 3: Time zones and Daylight Saving\n",
    " + A `datetime` is \"timezone aware\" when it has its `tzinfo` set. Otherwise it is \"timezone naive\"\n",
    " + Setting a timezone tells a `datetime` how to align itselfto UTC,the universaltime standard\n",
    " + Use the `.replace()` method to change the timezone of a `datetime` , leaving the date and time the same\n",
    " + Use the `.astimezone()` method to shift the date and time to match the new timezone\n",
    " + `dateutil.tz` provides a comprehensive, updated timezone database\n",
    "* Chapter 4: Dates and Times in Pandas\n",
    " + When reading a csv, set the `parse_dates` argument to be the list of columns which should be parsed as datetimes\n",
    " + If setting `parse_dates` doesn't work, use the `pd.to_datetime()` function\n",
    " + Grouping rows with `.groupby()` lets you calculate aggregates per group. For example, `.first()` , `.min()` or `.mean()`\n",
    " + `.resample()` groups rows on the basis of a `datetime` column, by year, month, day, and so on\n",
    " + Use `.tz_localize()` to set a timezone, keeping the date and time the same\n",
    " + Use `.tz_convert()` to change the date and time to match a new timezone\n",
    "\n",
    "## Chapter 1 - Dates and Calendars\n",
    "\n",
    "### 1.1 - Dates in Python\n",
    "* `from datetime import date`\n",
    "* Create a date object: `date(2020, 8, 15)`\n",
    "* Attributes of a date: `.year`, `.month`, `.day`\n",
    "* Date methods: `.weekday()`"
   ]
  },
  {
   "cell_type": "code",
   "execution_count": 1,
   "metadata": {},
   "outputs": [
    {
     "name": "stdout",
     "output_type": "stream",
     "text": [
      "[datetime.date(2016, 10, 7), datetime.date(2017, 6, 21)]\n"
     ]
    }
   ],
   "source": [
    "from datetime import date\n",
    "\n",
    "# Create dates\n",
    "two_hurricanes_dates = [date(2016, 10, 7), date(2017, 6, 21)]\n",
    "print(two_hurricanes_dates)"
   ]
  },
  {
   "cell_type": "markdown",
   "metadata": {},
   "source": [
    "### 1.2 - Math with dates\n",
    "* `from datetime import date` or `import timedelta`\n",
    "* For `timedelta`, use object = `timedelta(days = n)`\n",
    "* Use Python built-in function `sorted()` to sort date obejcts\n",
    "\n",
    "### 1.3 - Turning dates into strings\n",
    "* Default is **ISO 8601** format\n",
    "* Every other format: `.strftime()` format [reference](https://strftime.org/) - `f` for format"
   ]
  },
  {
   "cell_type": "code",
   "execution_count": 2,
   "metadata": {},
   "outputs": [
    {
     "name": "stdout",
     "output_type": "stream",
     "text": [
      "2017-11-05\n"
     ]
    }
   ],
   "source": [
    "from datetime import date\n",
    "\n",
    "d = date(2017, 11, 5)\n",
    "print(d) # ISO format: YYYY-MM-DD"
   ]
  },
  {
   "cell_type": "code",
   "execution_count": 3,
   "metadata": {},
   "outputs": [
    {
     "name": "stdout",
     "output_type": "stream",
     "text": [
      "['2017-11-05']\n"
     ]
    }
   ],
   "source": [
    "# Express the date in ISO 8601 format and put it in a list\n",
    "print([d.isoformat()])"
   ]
  },
  {
   "cell_type": "code",
   "execution_count": 4,
   "metadata": {},
   "outputs": [
    {
     "name": "stdout",
     "output_type": "stream",
     "text": [
      "['1999-12-31', '2000-01-01']\n"
     ]
    }
   ],
   "source": [
    "# A few dates that computers once had trouble with\n",
    "some_dates = ['2000-01-01', '1999-12-31']\n",
    "\n",
    "# Print them in order\n",
    "print(sorted(some_dates))"
   ]
  },
  {
   "cell_type": "code",
   "execution_count": 5,
   "metadata": {},
   "outputs": [
    {
     "name": "stdout",
     "output_type": "stream",
     "text": [
      "Year is 2017\n"
     ]
    }
   ],
   "source": [
    "# Format string with more text in it\n",
    "print(d.strftime(\"Year is %Y\"))"
   ]
  },
  {
   "cell_type": "code",
   "execution_count": 6,
   "metadata": {},
   "outputs": [
    {
     "name": "stdout",
     "output_type": "stream",
     "text": [
      "2017-309\n"
     ]
    }
   ],
   "source": [
    "# Print the date in the format 'YYYY-DDD' (day of the year)\n",
    "print(d.strftime('%Y-%j'))"
   ]
  },
  {
   "cell_type": "markdown",
   "metadata": {},
   "source": [
    "## Chapter 2 - Combining Dates and Times\n",
    "\n",
    "### 2.1 - Dates and times\n",
    "* `from datetime import datetime`\n",
    "* Creating datetime object - `datetime(2020,8,15,17,3,48)`\n",
    "* We could specify time unit to nanosecond, the default is microsecond\n",
    "* Replacing parts of a datetime object - `dt.replace(minute=0, second=0, microsecond=0)`"
   ]
  },
  {
   "cell_type": "code",
   "execution_count": 7,
   "metadata": {},
   "outputs": [
    {
     "name": "stdout",
     "output_type": "stream",
     "text": [
      "2017-10-01 15:23:25.500000\n"
     ]
    }
   ],
   "source": [
    "from datetime import datetime\n",
    "\n",
    "dt = datetime(year=2017, month=10, day=1,\n",
    "              hour=15, minute=23, second=25,\n",
    "              microsecond=500000)\n",
    "print(dt)"
   ]
  },
  {
   "cell_type": "markdown",
   "metadata": {},
   "source": [
    "### 2.2 - Printing and parsing datetimes\n",
    "* Parsing datetimes with `datetime.strptime()` - `datetime.strptime(\"12/30/2017 15:19:13\",\"%m/%d/%Y %H:%M:%S\")`\n",
    "* Parsing datetimes with `pandas` with `datetime.fromtimestamp`, from timestamp (seconds from Unix timestamps, Jan 1 1970) - `(datetime.fromtimestamp(Object)` \n",
    "\n",
    "### 2.3 - Working with durations\n",
    "* Subtract datetimes to create a timedelta or use `timedelta()`. e.g., getting duration seconds by `.total_seconds()`\n",
    "* Can applye subtractions & additions\n",
    "* Timedelta can be negative"
   ]
  },
  {
   "cell_type": "code",
   "execution_count": 8,
   "metadata": {},
   "outputs": [
    {
     "name": "stdout",
     "output_type": "stream",
     "text": [
      "1450.0\n"
     ]
    }
   ],
   "source": [
    "start = datetime(2017, 10, 8, 23, 46, 47)\n",
    "end = datetime(2017, 10, 9, 0, 10, 57)\n",
    "\n",
    "duration = end - start\n",
    "print(duration.total_seconds())"
   ]
  },
  {
   "cell_type": "code",
   "execution_count": 9,
   "metadata": {},
   "outputs": [
    {
     "name": "stdout",
     "output_type": "stream",
     "text": [
      "2017-10-08 23:46:48\n"
     ]
    }
   ],
   "source": [
    "from datetime import timedelta\n",
    "delta1 = timedelta(seconds = 1)\n",
    "print(start + delta1)"
   ]
  },
  {
   "cell_type": "code",
   "execution_count": 10,
   "metadata": {},
   "outputs": [
    {
     "name": "stdout",
     "output_type": "stream",
     "text": [
      "2017-10-09 23:46:48\n"
     ]
    }
   ],
   "source": [
    "delta2 = timedelta(days=1, seconds=1)\n",
    "print(start + delta2)"
   ]
  },
  {
   "cell_type": "markdown",
   "metadata": {},
   "source": [
    "## Chapter 3 - Time Zones and Daylight Saving\n",
    "\n",
    "### 3.1 - UTC offsets\n",
    "* The `-05:00` in the datetime object is called **UTC offsets**\n",
    "* `from datetime import datetime, timedelta, timezone`\n",
    "* `timezone()`\n",
    "* `datetime(..., tzinfo = TIMEZONE Object)`\n",
    "* `.astimezone(timezone.utc)` or `.replace(tzinfo = TIMEZONE Object)`"
   ]
  },
  {
   "cell_type": "code",
   "execution_count": 11,
   "metadata": {},
   "outputs": [
    {
     "name": "stdout",
     "output_type": "stream",
     "text": [
      "2017-12-30 15:09:03-05:00\n"
     ]
    }
   ],
   "source": [
    "from datetime import datetime, timedelta, timezone\n",
    "\n",
    "# US Eastern Standard time zone\n",
    "ET = timezone(timedelta(hours=-5))\n",
    "# Timezone-aware datetime\n",
    "dt = datetime(2017, 12, 30, 15, 9, 3, tzinfo = ET)\n",
    "print(dt)"
   ]
  },
  {
   "cell_type": "code",
   "execution_count": 12,
   "metadata": {},
   "outputs": [
    {
     "name": "stdout",
     "output_type": "stream",
     "text": [
      "2017-10-01T15:26:26-08:00\n"
     ]
    }
   ],
   "source": [
    "# Create a timezone for Pacific Standard Time, or UTC-8\n",
    "pst = timezone(timedelta(hours=-8))\n",
    "\n",
    "dt = datetime(2017, 10, 1, 15, 26, 26, tzinfo=pst)\n",
    "print(dt.isoformat())"
   ]
  },
  {
   "cell_type": "markdown",
   "metadata": {},
   "source": [
    "### 3.2 - Time zone database\n",
    "* tz database - `from dateutil import tz`, updates 3 to 4 times a year as time rule changes\n",
    "* Format: 'Continent/City', set by `tz.gettz()`\n",
    "* Examples:\n",
    " + 'America/New_York'\n",
    " + 'America/Mexico_City'\n",
    " + 'Europe/London'\n",
    " + 'Africa/Accra'\n",
    "* `tz` adapts to different timezones on different days (see example below)"
   ]
  },
  {
   "cell_type": "code",
   "execution_count": 13,
   "metadata": {},
   "outputs": [
    {
     "name": "stdout",
     "output_type": "stream",
     "text": [
      "2017-12-30 15:09:03-05:00\n",
      "2017-10-01 15:23:25-04:00\n"
     ]
    }
   ],
   "source": [
    "from datetime import datetime\n",
    "from dateutil import tz\n",
    "\n",
    "# Eastern time\n",
    "et = tz.gettz('America/New_York')\n",
    "\n",
    "# Last ride\n",
    "last = datetime(2017, 12, 30, 15, 9, 3, tzinfo=et)\n",
    "# First ride\n",
    "first = datetime(2017, 10, 1, 15, 23, 25, tzinfo=et)\n",
    "\n",
    "print(last,first,sep=\"\\n\")"
   ]
  },
  {
   "cell_type": "markdown",
   "metadata": {},
   "source": [
    "**Fun fact**: Time offset for Samoa is UTC+14. Samoa used to be UTC-10, but in 2011 it changed to the other side of the International Date Line to better match New Zealand, its closest trading partner. However, they wanted to keep the clocks the same, so the UTC offset shifted from -10 to +14, since 24-10 is 14."
   ]
  },
  {
   "cell_type": "code",
   "execution_count": 14,
   "metadata": {},
   "outputs": [
    {
     "name": "stdout",
     "output_type": "stream",
     "text": [
      "2017-10-01T15:23:25-04:00\n",
      "2017-10-02T09:23:25+14:00\n"
     ]
    }
   ],
   "source": [
    "sm = tz.gettz('Pacific/Apia')\n",
    "\n",
    "local = datetime(2017, 10, 1, 15, 23, 25, tzinfo=et)\n",
    "\n",
    "# What time was it in Samoa?\n",
    "notlocal = local.astimezone(sm)\n",
    "\n",
    "# Print them out and see the difference\n",
    "print(local.isoformat())\n",
    "print(notlocal.isoformat())"
   ]
  },
  {
   "cell_type": "markdown",
   "metadata": {},
   "source": [
    "### 3.3 - Starting daylight saving time\n",
    "* Handle when **spring ahead**: on the 2nd Sunday in March (daylight saving starts), 01:59:59 jumps directly to 03:00:00. \n",
    "* Acronoyms for timezones:\n",
    " + PST = pacific standard time\n",
    " + PDT = pacific daylight time (summer time / daylight saving time)\n",
    " + EST = eastern standard time\n",
    " + EDT = eastern daylight time\n",
    "* The `dateutil` solves evolving daylight saving time problem"
   ]
  },
  {
   "cell_type": "markdown",
   "metadata": {},
   "source": [
    "1. If we mannually create datetime object to reflect daylight saving time (on this day, 01:59:59 jumps directly to 03:00:00, so practically there's only a ONE-SECOND gap):"
   ]
  },
  {
   "cell_type": "code",
   "execution_count": 24,
   "metadata": {},
   "outputs": [
    {
     "name": "stdout",
     "output_type": "stream",
     "text": [
      "2017-03-12T01:59:59\n",
      "2017-03-12T03:00:00\n",
      "3601.0\n"
     ]
    }
   ],
   "source": [
    "spring_ahead_159am = datetime(2017, 3, 12, 1, 59, 59)\n",
    "spring_ahead_3am = datetime(2017, 3, 12, 3, 0, 0)\n",
    "\n",
    "print(\n",
    "    spring_ahead_159am.isoformat(),\n",
    "    spring_ahead_3am.isoformat(),\n",
    "    (spring_ahead_3am - spring_ahead_159am).total_seconds(),\n",
    "    sep = \"\\n\"\n",
    ")"
   ]
  },
  {
   "cell_type": "code",
   "execution_count": 25,
   "metadata": {},
   "outputs": [
    {
     "name": "stdout",
     "output_type": "stream",
     "text": [
      "2017-03-12T01:59:59-05:00\n",
      "2017-03-12T03:00:00-04:00\n",
      "1\n"
     ]
    }
   ],
   "source": [
    "from datetime import timezone, timedelta\n",
    "EST = timezone(timedelta(hours=-5))\n",
    "EDT = timezone(timedelta(hours=-4))\n",
    "\n",
    "spring_ahead_159am = spring_ahead_159am.replace(tzinfo = EST)\n",
    "spring_ahead_3am = spring_ahead_3am.replace(tzinfo = EDT)\n",
    "\n",
    "print(\n",
    "    spring_ahead_159am.isoformat(),\n",
    "    spring_ahead_3am.isoformat(),\n",
    "    (spring_ahead_3am - spring_ahead_159am).seconds,\n",
    "    sep = \"\\n\"\n",
    ")"
   ]
  },
  {
   "cell_type": "code",
   "execution_count": 27,
   "metadata": {},
   "outputs": [
    {
     "name": "stdout",
     "output_type": "stream",
     "text": [
      "2000-03-29T00:00:00+01:00\n",
      "2001-03-29T00:00:00+01:00\n",
      "2002-03-29T00:00:00+00:00\n",
      "2003-03-29T00:00:00+00:00\n",
      "2004-03-29T00:00:00+01:00\n",
      "2005-03-29T00:00:00+01:00\n",
      "2006-03-29T00:00:00+01:00\n",
      "2007-03-29T00:00:00+01:00\n",
      "2008-03-29T00:00:00+00:00\n",
      "2009-03-29T00:00:00+00:00\n",
      "2010-03-29T00:00:00+01:00\n"
     ]
    }
   ],
   "source": [
    "# March 29, throughout a decade\n",
    "\n",
    "from datetime import datetime\n",
    "from dateutil import tz\n",
    "\n",
    "dt = datetime(2000, 3, 29, tzinfo = tz.gettz('Europe/London'))\n",
    "\n",
    "# Loop over the dates, replacing the year, and print the ISO timestamp\n",
    "for y in range(2000, 2011):\n",
    "  print(dt.replace(year=y).isoformat())"
   ]
  },
  {
   "cell_type": "markdown",
   "metadata": {},
   "source": [
    "### 3.4 - Ending daylight saving time\n",
    "* Handle when we **fall back**: on the 1st Sunday in November (daylight saving ends), 01:59:59 falls back to 01:00:00.\n",
    "* `tz.datetime_ambiguous()` tells if this datetime is ambiguous, i.e., represents two 01:00:00 (first or second)\n",
    "* `tz.enfold()` sets a placeholder to the datetime and indicates that this is the second 01:00:00, but `tz.enfold()` has to be combined with other functions to work, otherwise it's just a placeholder."
   ]
  },
  {
   "cell_type": "code",
   "execution_count": 28,
   "metadata": {},
   "outputs": [
    {
     "data": {
      "text/plain": [
       "True"
      ]
     },
     "execution_count": 28,
     "metadata": {},
     "output_type": "execute_result"
    }
   ],
   "source": [
    "eastern = tz.gettz('US/Eastern')\n",
    "# 2017-11-05 01:00:00\n",
    "first_1am = datetime(2017, 11, 5, 1, 0, 0,\n",
    "                     tzinfo = eastern)\n",
    "tz.datetime_ambiguous(first_1am)"
   ]
  },
  {
   "cell_type": "code",
   "execution_count": 29,
   "metadata": {},
   "outputs": [],
   "source": [
    "# 2017-11-05 01:00:00 again\n",
    "second_1am = datetime(2017, 11, 5, 1, 0, 0,\n",
    "                      tzinfo = eastern)\n",
    "second_1am = tz.enfold(second_1am) # Doesn't return anything"
   ]
  },
  {
   "cell_type": "code",
   "execution_count": 30,
   "metadata": {},
   "outputs": [
    {
     "data": {
      "text/plain": [
       "0.0"
      ]
     },
     "execution_count": 30,
     "metadata": {},
     "output_type": "execute_result"
    }
   ],
   "source": [
    "(first_1am - second_1am).total_seconds()"
   ]
  },
  {
   "cell_type": "code",
   "execution_count": 31,
   "metadata": {},
   "outputs": [
    {
     "data": {
      "text/plain": [
       "-3600.0"
      ]
     },
     "execution_count": 31,
     "metadata": {},
     "output_type": "execute_result"
    }
   ],
   "source": [
    "first_1am = first_1am.astimezone(tz.UTC)\n",
    "second_1am = second_1am.astimezone(tz.UTC)\n",
    "\n",
    "(first_1am - second_1am).total_seconds()"
   ]
  },
  {
   "cell_type": "markdown",
   "metadata": {},
   "source": [
    "## Chapter 4 - Dates and Times in Pandas\n",
    "\n",
    "### 4.1 - Reading date and time data in Pandas"
   ]
  },
  {
   "cell_type": "code",
   "execution_count": 32,
   "metadata": {},
   "outputs": [
    {
     "name": "stdout",
     "output_type": "stream",
     "text": [
      "Start date                        2017-10-01 15:23:25\n",
      "End date                          2017-10-01 15:26:26\n",
      "Start station number                            31038\n",
      "Start station                    Glebe Rd & 11th St N\n",
      "End station number                              31036\n",
      "End station             George Mason Dr & Wilson Blvd\n",
      "Bike number                                    W20529\n",
      "Member type                                    Member\n",
      "Name: 0, dtype: object\n"
     ]
    }
   ],
   "source": [
    "import pandas as pd\n",
    "\n",
    "rides = pd.read_csv('capital-onebike.csv', \n",
    "                    parse_dates = ['Start date','End date'])\n",
    "\n",
    "# Print the initial (0th) row\n",
    "print(rides.iloc[0])"
   ]
  },
  {
   "cell_type": "code",
   "execution_count": 63,
   "metadata": {},
   "outputs": [
    {
     "name": "stdout",
     "output_type": "stream",
     "text": [
      "0     181.0\n",
      "1    7622.0\n",
      "2     343.0\n",
      "3    1278.0\n",
      "4    1277.0\n",
      "Name: Duration, dtype: float64\n"
     ]
    }
   ],
   "source": [
    "ride_durations = rides['End date'] - rides['Start date']\n",
    "\n",
    "rides['Duration'] = ride_durations\n",
    "# `pandas.Series.dt.total_seconds`\n",
    "print(rides['Duration'].dt.total_seconds().head())"
   ]
  },
  {
   "cell_type": "markdown",
   "metadata": {},
   "source": [
    "### 4.2 - Summarizing datetime data in Pandas\n",
    "\n",
    "* Summary statistics - `.mean()`, `.sum()`, can do calculations\n",
    "* `.value_counts()` - frequencies of unique values\n",
    "* In addition to `.groupby()`, `.resample('M', on = var)` can group date objects by MONTH\n",
    "* `.size()` (different from `.value_counts()`)\n",
    "* `.first()`"
   ]
  },
  {
   "cell_type": "code",
   "execution_count": 38,
   "metadata": {},
   "outputs": [
    {
     "data": {
      "text/plain": [
       "0.04348417785917786"
      ]
     },
     "execution_count": 38,
     "metadata": {},
     "output_type": "execute_result"
    }
   ],
   "source": [
    "# Percent of time out of the dock\n",
    "rides['Duration'].sum() / timedelta(days=91)"
   ]
  },
  {
   "cell_type": "code",
   "execution_count": 39,
   "metadata": {},
   "outputs": [
    {
     "data": {
      "text/plain": [
       "Member    236\n",
       "Casual     54\n",
       "Name: Member type, dtype: int64"
      ]
     },
     "execution_count": 39,
     "metadata": {},
     "output_type": "execute_result"
    }
   ],
   "source": [
    "# Count how many time the bike started at each station\n",
    "rides['Member type'].value_counts()"
   ]
  },
  {
   "cell_type": "code",
   "execution_count": 40,
   "metadata": {},
   "outputs": [
    {
     "data": {
      "text/plain": [
       "Member    0.813793\n",
       "Casual    0.186207\n",
       "Name: Member type, dtype: float64"
      ]
     },
     "execution_count": 40,
     "metadata": {},
     "output_type": "execute_result"
    }
   ],
   "source": [
    "# Percent of rides by member\n",
    "rides['Member type'].value_counts() / len(rides)"
   ]
  },
  {
   "cell_type": "code",
   "execution_count": 41,
   "metadata": {},
   "outputs": [
    {
     "data": {
      "text/plain": [
       "Member type\n",
       "Casual    1994.666667\n",
       "Member     992.279661\n",
       "Name: Duration seconds, dtype: float64"
      ]
     },
     "execution_count": 41,
     "metadata": {},
     "output_type": "execute_result"
    }
   ],
   "source": [
    "# Add duration (in seconds) column\n",
    "rides['Duration seconds'] = rides['Duration'].dt.total_seconds()\n",
    "# Average duration per member type\n",
    "rides.groupby('Member type')['Duration seconds'].mean()"
   ]
  },
  {
   "cell_type": "code",
   "execution_count": 42,
   "metadata": {},
   "outputs": [
    {
     "data": {
      "text/plain": [
       "Start date\n",
       "2017-10-31    1886.453704\n",
       "2017-11-30     854.174757\n",
       "2017-12-31     635.101266\n",
       "Freq: M, Name: Duration seconds, dtype: float64"
      ]
     },
     "execution_count": 42,
     "metadata": {},
     "output_type": "execute_result"
    }
   ],
   "source": [
    "# Average duration by month\n",
    "rides.resample('M', on = 'Start date')['Duration seconds'].mean()"
   ]
  },
  {
   "cell_type": "code",
   "execution_count": 43,
   "metadata": {},
   "outputs": [
    {
     "data": {
      "text/plain": [
       "Member type\n",
       "Casual     54\n",
       "Member    236\n",
       "dtype: int64"
      ]
     },
     "execution_count": 43,
     "metadata": {},
     "output_type": "execute_result"
    }
   ],
   "source": [
    "# Size per group\n",
    "rides.groupby('Member type').size()"
   ]
  },
  {
   "cell_type": "code",
   "execution_count": 44,
   "metadata": {},
   "outputs": [
    {
     "data": {
      "text/html": [
       "<div>\n",
       "<style scoped>\n",
       "    .dataframe tbody tr th:only-of-type {\n",
       "        vertical-align: middle;\n",
       "    }\n",
       "\n",
       "    .dataframe tbody tr th {\n",
       "        vertical-align: top;\n",
       "    }\n",
       "\n",
       "    .dataframe thead th {\n",
       "        text-align: right;\n",
       "    }\n",
       "</style>\n",
       "<table border=\"1\" class=\"dataframe\">\n",
       "  <thead>\n",
       "    <tr style=\"text-align: right;\">\n",
       "      <th></th>\n",
       "      <th>Start date</th>\n",
       "      <th>End date</th>\n",
       "      <th>Start station number</th>\n",
       "      <th>Start station</th>\n",
       "      <th>End station number</th>\n",
       "      <th>End station</th>\n",
       "      <th>Bike number</th>\n",
       "      <th>Duration</th>\n",
       "      <th>Duration seconds</th>\n",
       "    </tr>\n",
       "    <tr>\n",
       "      <th>Member type</th>\n",
       "      <th></th>\n",
       "      <th></th>\n",
       "      <th></th>\n",
       "      <th></th>\n",
       "      <th></th>\n",
       "      <th></th>\n",
       "      <th></th>\n",
       "      <th></th>\n",
       "      <th></th>\n",
       "    </tr>\n",
       "  </thead>\n",
       "  <tbody>\n",
       "    <tr>\n",
       "      <td>Casual</td>\n",
       "      <td>2017-10-01 15:42:57</td>\n",
       "      <td>2017-10-01 17:49:59</td>\n",
       "      <td>31036</td>\n",
       "      <td>George Mason Dr &amp; Wilson Blvd</td>\n",
       "      <td>31036</td>\n",
       "      <td>George Mason Dr &amp; Wilson Blvd</td>\n",
       "      <td>W20529</td>\n",
       "      <td>02:07:02</td>\n",
       "      <td>7622.0</td>\n",
       "    </tr>\n",
       "    <tr>\n",
       "      <td>Member</td>\n",
       "      <td>2017-10-01 15:23:25</td>\n",
       "      <td>2017-10-01 15:26:26</td>\n",
       "      <td>31038</td>\n",
       "      <td>Glebe Rd &amp; 11th St N</td>\n",
       "      <td>31036</td>\n",
       "      <td>George Mason Dr &amp; Wilson Blvd</td>\n",
       "      <td>W20529</td>\n",
       "      <td>00:03:01</td>\n",
       "      <td>181.0</td>\n",
       "    </tr>\n",
       "  </tbody>\n",
       "</table>\n",
       "</div>"
      ],
      "text/plain": [
       "                     Start date            End date  Start station number  \\\n",
       "Member type                                                                 \n",
       "Casual      2017-10-01 15:42:57 2017-10-01 17:49:59                 31036   \n",
       "Member      2017-10-01 15:23:25 2017-10-01 15:26:26                 31038   \n",
       "\n",
       "                             Start station  End station number  \\\n",
       "Member type                                                      \n",
       "Casual       George Mason Dr & Wilson Blvd               31036   \n",
       "Member                Glebe Rd & 11th St N               31036   \n",
       "\n",
       "                               End station Bike number Duration  \\\n",
       "Member type                                                       \n",
       "Casual       George Mason Dr & Wilson Blvd      W20529 02:07:02   \n",
       "Member       George Mason Dr & Wilson Blvd      W20529 00:03:01   \n",
       "\n",
       "             Duration seconds  \n",
       "Member type                    \n",
       "Casual                 7622.0  \n",
       "Member                  181.0  "
      ]
     },
     "execution_count": 44,
     "metadata": {},
     "output_type": "execute_result"
    }
   ],
   "source": [
    "# First ride per group\n",
    "rides.groupby('Member type').first()"
   ]
  },
  {
   "cell_type": "code",
   "execution_count": 46,
   "metadata": {},
   "outputs": [
    {
     "data": {
      "text/plain": [
       "<matplotlib.axes._subplots.AxesSubplot at 0x7fb8c1b5bf10>"
      ]
     },
     "execution_count": 46,
     "metadata": {},
     "output_type": "execute_result"
    },
    {
     "data": {
      "image/png": "[encoded data removed]",
      "text/plain": [
       "<Figure size 432x288 with 1 Axes>"
      ]
     },
     "metadata": {
      "needs_background": "light"
     },
     "output_type": "display_data"
    }
   ],
   "source": [
    "rides\\\n",
    "  .resample('M', on ='Start date')\\\n",
    "  ['Duration seconds']\\\n",
    "  .mean()\\\n",
    "  .plot()"
   ]
  },
  {
   "cell_type": "code",
   "execution_count": 47,
   "metadata": {},
   "outputs": [
    {
     "data": {
      "text/plain": [
       "<matplotlib.axes._subplots.AxesSubplot at 0x7fb8c1bdba90>"
      ]
     },
     "execution_count": 47,
     "metadata": {},
     "output_type": "execute_result"
    },
    {
     "data": {
      "image/png": "[encoded data removed]",
      "text/plain": [
       "<Figure size 432x288 with 1 Axes>"
      ]
     },
     "metadata": {
      "needs_background": "light"
     },
     "output_type": "display_data"
    }
   ],
   "source": [
    "rides\\\n",
    "  .resample('D', on = 'Start date')\\\n",
    "  ['Duration seconds']\\\n",
    "  .mean()\\\n",
    "  .plot()"
   ]
  },
  {
   "cell_type": "code",
   "execution_count": 52,
   "metadata": {},
   "outputs": [
    {
     "name": "stdout",
     "output_type": "stream",
     "text": [
      "6 rides were joyrides\n",
      "The median duration overall was 660.00 seconds\n",
      "The median duration for joyrides was 2642.50 seconds\n"
     ]
    }
   ],
   "source": [
    "joyrides = (rides['Start station'] == rides['End station'])\n",
    "\n",
    "# Total number of joyrides\n",
    "print(\"{} rides were joyrides\".format(joyrides.sum()))\n",
    "\n",
    "# Median of all rides\n",
    "print(\"The median duration overall was {:.2f} seconds\"\\\n",
    "      .format(rides['Duration seconds'].median()))\n",
    "\n",
    "# Median of joyrides\n",
    "print(\"The median duration for joyrides was {:.2f} seconds\"\\\n",
    "      .format(rides[joyrides]['Duration seconds'].median()))"
   ]
  },
  {
   "cell_type": "code",
   "execution_count": 53,
   "metadata": {},
   "outputs": [
    {
     "name": "stdout",
     "output_type": "stream",
     "text": [
      "Start date  Member type\n",
      "2017-10-31  Member         0.768519\n",
      "            Casual         0.231481\n",
      "2017-11-30  Member         0.825243\n",
      "            Casual         0.174757\n",
      "2017-12-31  Member         0.860759\n",
      "            Casual         0.139241\n",
      "Name: Member type, dtype: float64\n"
     ]
    }
   ],
   "source": [
    "# Resample rides to be monthly on the basis of Start date\n",
    "monthly_rides = rides.resample(\"M\", on = \"Start date\")['Member type']\n",
    "\n",
    "# Take the ratio of the .value_counts() over the total number of rides\n",
    "print(monthly_rides.value_counts() / monthly_rides.size())"
   ]
  },
  {
   "cell_type": "code",
   "execution_count": 55,
   "metadata": {},
   "outputs": [
    {
     "name": "stdout",
     "output_type": "stream",
     "text": [
      "Member type  Start date\n",
      "Casual       2017-10-31    1636.0\n",
      "             2017-11-30    1159.5\n",
      "             2017-12-31     850.0\n",
      "Member       2017-10-31     671.0\n",
      "             2017-11-30     655.0\n",
      "             2017-12-31     387.5\n",
      "Name: Duration seconds, dtype: float64\n"
     ]
    }
   ],
   "source": [
    "# Group rides by member type, and resample to the month\n",
    "grouped = rides.groupby('Member type')\\\n",
    "  .resample(\"M\", on = 'Start date')\n",
    "\n",
    "print(grouped['Duration seconds'].median())"
   ]
  },
  {
   "cell_type": "markdown",
   "metadata": {},
   "source": [
    "### 4.3 - Additional datetime methods in Pandas\n",
    "\n",
    "* `.dt.tz_localize()` in pandas to set timezone for datetime objects. Add `ambiguous = \"NaT\"` to set any ambiguous datetimes Not a Time and pandas will ignore this datetime.\n",
    "* `.dt.tz_convert()` to convert timezones. e.g., 'America/New_York' to 'Europe/London'.\n",
    "* Datetime-related attributes: `.dt.weekday_name`, `.dt.month`."
   ]
  },
  {
   "cell_type": "code",
   "execution_count": 64,
   "metadata": {},
   "outputs": [
    {
     "data": {
      "text/plain": [
       "116.00000000000001"
      ]
     },
     "execution_count": 64,
     "metadata": {},
     "output_type": "execute_result"
    }
   ],
   "source": [
    "rides['Duration'].dt.total_seconds().min()"
   ]
  },
  {
   "cell_type": "code",
   "execution_count": 57,
   "metadata": {},
   "outputs": [
    {
     "data": {
      "text/plain": [
       "0   2017-10-01 15:23:25\n",
       "1   2017-10-01 15:42:57\n",
       "2   2017-10-02 06:37:10\n",
       "Name: Start date, dtype: datetime64[ns]"
      ]
     },
     "execution_count": 57,
     "metadata": {},
     "output_type": "execute_result"
    }
   ],
   "source": [
    "rides['Start date'].head(3)"
   ]
  },
  {
   "cell_type": "code",
   "execution_count": 58,
   "metadata": {},
   "outputs": [
    {
     "data": {
      "text/plain": [
       "0   2017-10-01 15:23:25-04:00\n",
       "1   2017-10-01 15:42:57-04:00\n",
       "2   2017-10-02 06:37:10-04:00\n",
       "Name: Start date, dtype: datetime64[ns, America/New_York]"
      ]
     },
     "execution_count": 58,
     "metadata": {},
     "output_type": "execute_result"
    }
   ],
   "source": [
    "rides['Start date'].head(3)\\\n",
    "  .dt.tz_localize('America/New_York')"
   ]
  },
  {
   "cell_type": "code",
   "execution_count": 59,
   "metadata": {},
   "outputs": [],
   "source": [
    "# Handle ambiguous datetimes\n",
    "rides['Start date'] = rides['Start date']\\\n",
    "  .dt.tz_localize('America/New_York', ambiguous='NaT')\n",
    "rides['End date'] = rides['End date']\\\n",
    "  .dt.tz_localize('America/New_York', ambiguous='NaT')"
   ]
  },
  {
   "cell_type": "code",
   "execution_count": 65,
   "metadata": {},
   "outputs": [
    {
     "data": {
      "text/plain": [
       "-76913.0"
      ]
     },
     "execution_count": 65,
     "metadata": {},
     "output_type": "execute_result"
    }
   ],
   "source": [
    "# Re-calculate duration, ignoring bad row\n",
    "rides['Duration'] = rides['Start date'] - rides['End date']\n",
    "# Find the minimum again\n",
    "rides['Duration'].dt.total_seconds().min()"
   ]
  },
  {
   "cell_type": "code",
   "execution_count": 66,
   "metadata": {},
   "outputs": [
    {
     "data": {
      "text/plain": [
       "Start date                        NaT\n",
       "End date                          NaT\n",
       "Start station number            31615\n",
       "Start station           6th & H St NE\n",
       "End station number              31627\n",
       "End station             3rd & M St NE\n",
       "Bike number                    W20529\n",
       "Member type                    Member\n",
       "Duration                          NaT\n",
       "Duration seconds                -3346\n",
       "Name: 129, dtype: object"
      ]
     },
     "execution_count": 66,
     "metadata": {},
     "output_type": "execute_result"
    }
   ],
   "source": [
    "# Look at problematic row\n",
    "rides.iloc[129]"
   ]
  },
  {
   "cell_type": "code",
   "execution_count": 67,
   "metadata": {},
   "outputs": [
    {
     "data": {
      "text/plain": [
       "0    2017\n",
       "1    2017\n",
       "2    2017\n",
       "Name: Start date, dtype: int64"
      ]
     },
     "execution_count": 67,
     "metadata": {},
     "output_type": "execute_result"
    }
   ],
   "source": [
    "# Year of first three rows\n",
    "rides['Start date']\\\n",
    "  .head(3)\\\n",
    "  .dt.year"
   ]
  },
  {
   "cell_type": "code",
   "execution_count": 68,
   "metadata": {},
   "outputs": [
    {
     "data": {
      "text/plain": [
       "0    Sunday\n",
       "1    Sunday\n",
       "2    Monday\n",
       "Name: Start date, dtype: object"
      ]
     },
     "execution_count": 68,
     "metadata": {},
     "output_type": "execute_result"
    }
   ],
   "source": [
    "# See weekdays for first three rides\n",
    "rides['Start date']\\\n",
    "  .head(3)\\\n",
    "  .dt.weekday_name"
   ]
  },
  {
   "cell_type": "code",
   "execution_count": 69,
   "metadata": {},
   "outputs": [
    {
     "data": {
      "text/plain": [
       "0                         NaT\n",
       "1   2017-10-01 15:26:26-04:00\n",
       "2   2017-10-01 17:49:59-04:00\n",
       "Name: End date, dtype: datetime64[ns, America/New_York]"
      ]
     },
     "execution_count": 69,
     "metadata": {},
     "output_type": "execute_result"
    }
   ],
   "source": [
    "# Shift the indexes forward one, padding with NaT\n",
    "rides['End date'].shift(1).head(3)"
   ]
  },
  {
   "cell_type": "code",
   "execution_count": 70,
   "metadata": {},
   "outputs": [
    {
     "name": "stdout",
     "output_type": "stream",
     "text": [
      "Start date\n",
      "2017-10-31 00:00:00-04:00    5.519242\n",
      "2017-11-30 00:00:00-05:00    7.256474\n",
      "2017-12-31 00:00:00-05:00    9.202380\n",
      "Name: Time since, dtype: float64\n"
     ]
    }
   ],
   "source": [
    "# Shift the index of the end date up one; now subract it from the start date\n",
    "rides['Time since'] = rides['Start date'] - (rides['End date'].shift(1))\n",
    "\n",
    "# Move from a timedelta to a number of seconds, which is easier to work with\n",
    "rides['Time since'] = rides['Time since'].dt.total_seconds()\n",
    "\n",
    "# Resample to the month\n",
    "monthly = rides.resample(\"M\",on='Start date')\n",
    "\n",
    "# Print the average hours between rides each month\n",
    "print(monthly['Time since'].mean()/(60*60))"
   ]
  }
 ],
 "metadata": {
  "kernelspec": {
   "display_name": "Python 3",
   "language": "python",
   "name": "python3"
  },
  "language_info": {
   "codemirror_mode": {
    "name": "ipython",
    "version": 3
   },
   "file_extension": ".py",
   "mimetype": "text/x-python",
   "name": "python",
   "nbconvert_exporter": "python",
   "pygments_lexer": "ipython3",
   "version": "3.7.4"
  }
 },
 "nbformat": 4,
 "nbformat_minor": 2
}
