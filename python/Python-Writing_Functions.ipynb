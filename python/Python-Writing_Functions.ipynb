{
  "nbformat": 4,
  "nbformat_minor": 0,
  "metadata": {
    "colab": {
      "name": "Python-Writing_Functions.ipynb",
      "provenance": [],
      "toc_visible": true,
      "authorship_tag": "ABX9TyOlpgzyvHt/bLd34FR00F1V",
      "include_colab_link": true
    },
    "kernelspec": {
      "name": "python3",
      "display_name": "Python 3"
    },
    "language_info": {
      "name": "python"
    }
  },
  "cells": [
    {
      "cell_type": "markdown",
      "metadata": {
        "id": "view-in-github",
        "colab_type": "text"
      },
      "source": [
        "<a href=\"https://colab.research.google.com/github/PariSsy/datacamp-notes/blob/main/Python_Writing_Functions.ipynb\" target=\"_parent\"><img src=\"https://colab.research.google.com/assets/colab-badge.svg\" alt=\"Open In Colab\"/></a>"
      ]
    },
    {
      "cell_type": "markdown",
      "metadata": {
        "id": "z0if_mQW0zhT"
      },
      "source": [
        "# Writing Functions in Python\n",
        "\n",
        "* Instructor = Shayne Miel\n",
        "* [Course Link](https://learn.datacamp.com/courses/writing-functions-in-python)\n",
        "* Notes taken = Aug 9, 2021 by [Paris Zhang](https://www.linkedin.com/in/parisyunyuezhang/)\n",
        "\n"
      ]
    },
    {
      "cell_type": "markdown",
      "metadata": {
        "id": "SA1ObSLA1qyf"
      },
      "source": [
        "# Chapter 1 - Best Practices"
      ]
    },
    {
      "cell_type": "markdown",
      "metadata": {
        "id": "fHmxlsxY9q8j"
      },
      "source": [
        "## Section 1.1 - Docstrings\n",
        "\n",
        "### A complex function\n",
        "\n",
        "```\n",
        "def split_and_stack( df, new_names ):\n",
        "  \"\"\"\n",
        "  Split a DataFrame's columns into two halves and then stack them vertically, returning a new DataFrame with `new_names` as the column names.\n",
        "\n",
        "  Args:\n",
        "    df (DataFrame): The DataFrame to split.new_names (iterable of str): The column names for the new DataFrame.\n",
        "\n",
        "  Returns:\n",
        "    DataFrame\n",
        "  \"\"\"\n",
        "  half = int(len(df.columns) / 2)\n",
        "  left = df.iloc[:, :half]\n",
        "  right = df.iloc[:, half:]\n",
        "  return pd.DataFrame(\n",
        "    data = np.vstack([left.values, right.values]),\n",
        "    columns = new_names\n",
        "  )\n",
        "```\n",
        "\n",
        "### Anatomy of a docstring\n",
        "\n",
        "```\n",
        "def function_name(arguments):\n",
        "  \"\"\"\n",
        "  Description of what the function does.\n",
        "\n",
        "  Description of the arguments, if any.\n",
        "\n",
        "  Description of the return value(s), if any.\n",
        "\n",
        "  Description of errors raised, if any.\n",
        "\n",
        "  Optional extra notes or examples of usage.\n",
        "  \"\"\"\n",
        "```\n",
        "\n",
        "### Docstring formats\n",
        "* Google Style\n",
        "* Numpydoc\n",
        "* reStructuredText\n",
        "* EpyText\n",
        "\n",
        "#### Google style - arguments & return value(s)\n",
        "\n",
        "```\n",
        "def function(arg_1, arg_2=42):\n",
        "  \"\"\"Description of what the function does.\n",
        "\n",
        "  Args:\n",
        "    arg_1 (str): Description of arg_1 that can break onto the next line if needed.\n",
        "    arg_2 (int, optional): Write optional when an argument has a default value.\n",
        "  \n",
        "  Returns:\n",
        "    bool: Optional description of the return value\n",
        "    Extra lines are not indented.\n",
        "  \n",
        "  Raises:\n",
        "    ValueError: Include any error types that the function intentionally raises.\n",
        "  \n",
        "  Notes:\n",
        "    See https://www.datacamp.com/community/tutorials/docstrings-python for more info.\n",
        "```\n",
        "\n",
        "#### Numpydoc\n",
        "\n",
        "```\n",
        "def function(arg_1, arg_2=42):\n",
        "  \"\"\"\n",
        "  Description of what the function does.\n",
        "\n",
        "  Parameters\n",
        "  ----------\n",
        "  arg_1 : expected type of arg_1\n",
        "    Description of arg_1.\n",
        "  arg_2 : int, optional\n",
        "    Write optional when an argument has a default value.\n",
        "    Default = 42.\n",
        "  \n",
        "  Returns\n",
        "  -------\n",
        "  The type of the return value\n",
        "    Can include a description of the return value.\n",
        "    Replace \"Returns\" with \"Yields\" if this function is a generator.\n",
        "  \"\"\"\n",
        "```\n",
        "\n",
        "### Retrieving docstrings\n",
        "\n",
        "```\n",
        "def the_answer():\n",
        "  \"\"\"Return the answer to life, the universe, and everything.\n",
        "\n",
        "  Returns:\n",
        "    int\n",
        "  \"\"\"\n",
        "  return 42\n",
        "print(the_answer.__doc__)\n",
        "\n",
        ">>> Return the answer to life, the universe, and everything.\n",
        ">>>\n",
        ">>>  Returns:\n",
        ">>>    int\n",
        "```\n",
        "\n",
        "```\n",
        "import insepct\n",
        "print(inspect.getdoc(the_answer))\n",
        "\n",
        ">>> Return the answer to life, the universe, and everything.\n",
        ">>>\n",
        ">>>  Returns:\n",
        ">>>    int\n",
        "```"
      ]
    },
    {
      "cell_type": "markdown",
      "metadata": {
        "id": "KTprayeYmkVW"
      },
      "source": [
        "### Examples\n",
        "\n",
        "1. Count the number of times the letter appears in the string:\n",
        "\n",
        "```\n",
        "def count_letter(content, letter):\n",
        "  \"\"\"Count the number of times `letter` appears in `content`.\n",
        "\n",
        "  Args:\n",
        "    content (str): The string to search.\n",
        "    letter (str): The letter to search for.\n",
        "\n",
        "  Returns:\n",
        "    int\n",
        "\n",
        "  # Add a section detailing what errors might be raised\n",
        "  Raises:\n",
        "    ValueError: If `letter` is not a one-character string.\n",
        "  \"\"\"\n",
        "  if (not isinstance(letter, str)) or len(letter) != 1:\n",
        "    raise ValueError('`letter` must be a single character string.')\n",
        "  return len([char for char in content if char == letter])\n",
        "```\n",
        "\n",
        "2. A feature that displays a tooltip with a function's docstring whenever the user starts typing the function name.\n",
        "\n",
        "```\n",
        "import inspect\n",
        "\n",
        "def build_tooltip(function):\n",
        "  \"\"\"Create a tooltip for any function that shows the\n",
        "  function's docstring.\n",
        "\n",
        "  Args:\n",
        "    function (callable): The function we want a tooltip for.\n",
        "\n",
        "  Returns:\n",
        "    str\n",
        "  \"\"\"\n",
        "  # Get the docstring for the \"function\" argument by using inspect\n",
        "  docstring = inspect.getdoc(function)\n",
        "  border = '#' * 28\n",
        "  return '{}\\n{}\\n{}'.format(border, docstring, border)\n",
        "\n",
        "print(build_tooltip(count_letter))\n",
        "print(build_tooltip(range))\n",
        "print(build_tooltip(print))\n",
        "```"
      ]
    },
    {
      "cell_type": "markdown",
      "metadata": {
        "id": "4QLHI4d69y8p"
      },
      "source": [
        "## Section 1.2 - DRY and \"Do One Thing\"\n",
        "\n",
        "### Don't repeat yourself (DRY)\n",
        "\n",
        "* Training set\n",
        "```\n",
        "train = pd.read_csv('train.csv')\n",
        "train_y = train['labels'].values\n",
        "train_X = train[col for col in train.columns if col != 'labels'].values\n",
        "train_pca = PCA(n_components=2).fit_transform(train_X)\n",
        "plt.scatter(train_pca[:,0], train_pca[:,1])\n",
        "```\n",
        "* Validation set\n",
        "```\n",
        "val = pd.read_csv('validation.csv')\n",
        "val_y = val['labels'].values\n",
        "val_X = val[col for col in val.columns if col != 'labels'].values\n",
        "val_pca = PCA(n_components=2).fit_transform(val_X)\n",
        "plt.scatter(val_pca[:,0], val_pca[:,1])\n",
        "```\n",
        "* Testing set\n",
        "```\n",
        "test = pd.read_csv('test.csv')\n",
        "test_y = test['labels'].values\n",
        "test_X = test[col for col in test.columns if col != 'labels'].values\n",
        "test_pca = PCA(n_components=2).fit_transform(test_X)\n",
        "plt.scatter(test_pca[:,0], test_pca[:,1])\n",
        "```\n",
        "\n",
        "### Use functions to avoid repetition\n",
        "\n",
        "```\n",
        "def load_and_plot(path):\n",
        "  \"\"\"Load a data set and plot the first two principal components.\n",
        "\n",
        "  Args:\n",
        "    path (str): The location of a CSV file.\n",
        "  \n",
        "  Returns:\n",
        "    tuple of ndarray: (features, labels)\n",
        "  \"\"\"\n",
        "  data = pd.read_csv(path)\n",
        "  y = data['label'].values\n",
        "  X = data[col for col in train.columns if col != 'label'].values\n",
        "  pca = PCA(n_components=2).fit_transform(X)\n",
        "  plt.scatter(pca[:,0], pca[:,1])\n",
        "  return X,y\n",
        "\n",
        "train_X, train_y = load_and_plot('train.csv')\n",
        "val_X, val_y = load_and_plot('val.csv')\n",
        "test_X, test_y = load_and_plot('test.csv')\n",
        "```\n",
        "\n",
        "### Do One Thing\n",
        "\n",
        "```\n",
        "def load_data(path):\n",
        "  \"\"\"Load a data set.\n",
        "\n",
        "  Args:\n",
        "    path (str): The location of a CSV file.\n",
        "\n",
        "  Returns:\n",
        "    tuple of ndarray: (features, labels)\n",
        "  \"\"\"\n",
        "  data = pd.read_csv(path)\n",
        "  y = data['labels'].values\n",
        "  X = data[col for col in data.columns if col != 'labels'].values\n",
        "  return X, y\n",
        "```\n",
        "\n",
        "```\n",
        "def plot_data():\n",
        "  \"\"\"Plot the first two principal components of a matrix.\n",
        "\n",
        "  Args:\n",
        "    X (numpy.ndarray): The data to plot.\n",
        "  \"\"\"\n",
        "  pca = PCA(n_components=2).fit_transform(X)\n",
        "  plt.scatter(pca[:,0], pca[:,1])\n",
        "```\n",
        "\n",
        "**Advantages**:\n",
        "1. More flexible\n",
        "2. More easily understood\n",
        "3. Simpler to test\n",
        "4. Simpler to debug\n",
        "5. Easier to change"
      ]
    },
    {
      "cell_type": "markdown",
      "metadata": {
        "id": "Xy5S97nZ91b3"
      },
      "source": [
        "## Section 1.3 - Pass by assignment\n",
        "\n",
        "### Example 1\n",
        "\n",
        "```\n",
        "def foo(x):\n",
        "  x[0] = 99\n",
        "my_list = [1,2,3]\n",
        "foo(my_list)\n",
        "print(my_list)\n",
        "\n",
        ">>> [99,2,3]\n",
        "\n",
        "def bar(x):\n",
        "  x = x + 90\n",
        "my_var = 3\n",
        "bar(my_var)\n",
        "print(my_var)\n",
        "\n",
        ">>> 3\n",
        "```\n",
        "\n",
        "### Example 2\n",
        "\n",
        "```\n",
        "a = [1, 2, 3]\n",
        "b = a\n",
        "a.append(4)\n",
        "print(b)\n",
        "\n",
        ">>> [1, 2, 3, 4]\n",
        "\n",
        "b.append(5)\n",
        "print(a)\n",
        "\n",
        ">>> [1, 2, 3, 4, 5]\n",
        "```\n",
        "\n",
        "### Immutable\n",
        "* int\n",
        "* float\n",
        "* bool\n",
        "* string\n",
        "* bytes\n",
        "* tuple\n",
        "* frozenset\n",
        "* None\n",
        "\n",
        "### Mutable\n",
        "* list\n",
        "* dict\n",
        "* set\n",
        "* bytearray\n",
        "* objects\n",
        "* functions\n",
        "* almost everything else\n",
        "\n",
        "### Example where mutable default arguments are dangerous\n",
        "\n",
        "```\n",
        "def foo(var=[]):\n",
        "  var.append(1)\n",
        "  return var\n",
        "foo()\n",
        "\n",
        ">>> [1]\n",
        "\n",
        "foo()\n",
        "\n",
        ">>> [1, 1]\n",
        "```\n",
        "\n",
        "```\n",
        "def foo(var=None):\n",
        "  if var is None:\n",
        "    var = []\n",
        "  var.append(1)\n",
        "  return var\n",
        "foo()\n",
        "\n",
        ">>> [1]\n",
        "\n",
        "foo()\n",
        "\n",
        ">>> [1]\n",
        "```\n",
        "\n",
        "### Exercise 1\n",
        "\n",
        "```\n",
        "def store_lower(_dict, _string):\n",
        "  \"\"\"Add a mapping between `_string` and a lowercased version of `_string` to `_dict`\n",
        "\n",
        "  Args:\n",
        "    _dict (dict): The dictionary to update.\n",
        "    _string (str): The string to add.\n",
        "  \"\"\"\n",
        "  orig_string = _string\n",
        "  _string = _string.lower()\n",
        "  _dict[orig_string] = _string\n",
        "\n",
        "d = {}\n",
        "s = 'Hello'\n",
        "\n",
        "store_lower(d, s)\n",
        "\n",
        ">>> d = {'Hello': 'hello'}\n",
        ">>> s = 'Hello'\n",
        "```"
      ]
    },
    {
      "cell_type": "markdown",
      "metadata": {
        "id": "uvfrHNHz37F3"
      },
      "source": [
        "# Chapter 2 - Context Managers\n",
        "\n"
      ]
    },
    {
      "cell_type": "markdown",
      "metadata": {
        "id": "iKzmtS_i-DQQ"
      },
      "source": [
        "## Section 2.1 - Using context managers"
      ]
    },
    {
      "cell_type": "markdown",
      "metadata": {
        "id": "nIGmyJ09-ErH"
      },
      "source": [
        "## Section 2.2 - Writing context managers"
      ]
    },
    {
      "cell_type": "markdown",
      "metadata": {
        "id": "zPbSHDfP-GMY"
      },
      "source": [
        "## Section 2.3 - Advanced topics"
      ]
    },
    {
      "cell_type": "markdown",
      "metadata": {
        "id": "W5cLu6E_37S2"
      },
      "source": [
        "# Chapter 3 - Decorators\n",
        "\n"
      ]
    },
    {
      "cell_type": "markdown",
      "metadata": {
        "id": "aYrewVnL-JLY"
      },
      "source": [
        "## Section 3.1 - Functions are objects"
      ]
    },
    {
      "cell_type": "markdown",
      "metadata": {
        "id": "qTcs38MP-Kk3"
      },
      "source": [
        "## Section 3.2 - Scope"
      ]
    },
    {
      "cell_type": "markdown",
      "metadata": {
        "id": "ts4PCxBs-L74"
      },
      "source": [
        "## Section 3.3 - Closures"
      ]
    },
    {
      "cell_type": "markdown",
      "metadata": {
        "id": "zvBKhLsiiGTs"
      },
      "source": [
        "## Section 3.4 - Decorators"
      ]
    },
    {
      "cell_type": "markdown",
      "metadata": {
        "id": "rygClKCM37cG"
      },
      "source": [
        "# Chapter 4 - More on Decorators\n"
      ]
    },
    {
      "cell_type": "markdown",
      "metadata": {
        "id": "3tU0napW-RAX"
      },
      "source": [
        "## Section 4.1 - Examples"
      ]
    },
    {
      "cell_type": "markdown",
      "metadata": {
        "id": "TR3ZljfN-Sev"
      },
      "source": [
        "## Section 4.2 - Decorators and metadata"
      ]
    },
    {
      "cell_type": "markdown",
      "metadata": {
        "id": "KVSINhQx-T7Q"
      },
      "source": [
        "## Section 4.3 - Decorators that take arguments"
      ]
    },
    {
      "cell_type": "markdown",
      "metadata": {
        "id": "PuAcWpL1iVB0"
      },
      "source": [
        "## Section 4.4 - Timeout() example"
      ]
    }
  ]
}