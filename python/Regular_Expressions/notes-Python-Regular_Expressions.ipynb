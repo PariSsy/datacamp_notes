{
 "cells": [
  {
   "cell_type": "markdown",
   "metadata": {},
   "source": [
    "# Regular Expressions in Python\n",
    "Instructor: Maria Eugenia Inzaugarat ([course link](https://learn.datacamp.com/courses/regular-expressions-in-python))  \n",
    "Note Taker: Paris Zhang on Aug 16, 2020\n",
    "\n",
    "Course contents:\n",
    "1. Basic concepts of string manipulation\n",
    " + String operations\n",
    " + Finding and replacing\n",
    "2. Formatting strings\n",
    " + Positional formatting\n",
    " + Formatted string literal\n",
    " + Template method\n",
    "3. Regular expressions for pattern matching\n",
    " + Repetitions\n",
    " + Regex metacharacters\n",
    " + Greedy vs. non-greedy matching\n",
    "4. Advanced regular expressions concepts\n",
    " + Capturing groups\n",
    " + Alternation and non-capturing groups\n",
    " + Backreferences\n",
    " + Lookaround"
   ]
  },
  {
   "cell_type": "markdown",
   "metadata": {},
   "source": [
    "## Chapter 1 - Basic concepts of string manipulation\n",
    "\n",
    "### 1.1 - Intro to string manipulation\n",
    "* Convert to string - `str()`\n",
    "* Get the length of a string - `len()`\n",
    "* Stride - `string[0:6:2]` means print every 2 letters from the 1st to the 6th letter of the string\n",
    "* A **palindrome** is a sequence of characters which can be read the same backward as forward, for example: Madam or No lemon, no melon. "
   ]
  },
  {
   "cell_type": "code",
   "execution_count": 3,
   "metadata": {},
   "outputs": [
    {
     "name": "stdout",
     "output_type": "stream",
     "text": [
      "Aeo\n",
      "yad emosewA\n"
     ]
    }
   ],
   "source": [
    "my_string = \"Awesome day\"\n",
    "print(\n",
    "    my_string[0:6:2],\n",
    "    my_string[::-1],\n",
    "    sep = \"\\n\"\n",
    ")"
   ]
  },
  {
   "cell_type": "code",
   "execution_count": 1,
   "metadata": {},
   "outputs": [
    {
     "name": "stdout",
     "output_type": "stream",
     "text": [
      "desserts I stressed\n"
     ]
    }
   ],
   "source": [
    "movie = 'oh my God! desserts I stressed was an ugly movie'\n",
    "\n",
    "movie_title = movie[11:30]\n",
    "\n",
    "# Obtain the palindrome\n",
    "palindrome = movie_title[::-1]\n",
    "\n",
    "# Print the word if it's a palindrome\n",
    "if movie_title == palindrome:\n",
    "    print(movie_title)"
   ]
  },
  {
   "cell_type": "markdown",
   "metadata": {},
   "source": [
    "### 1.2 - String operations\n",
    "* Adjusting cases with `.lower()` and `.upper()`\n",
    "* Capitalize the first letter - `.capitalize()`\n",
    "* Splitting a string into a list of substrings - `.split()` and `.rsplit()` (reverse order)"
   ]
  },
  {
   "cell_type": "code",
   "execution_count": 5,
   "metadata": {},
   "outputs": [
    {
     "name": "stdout",
     "output_type": "stream",
     "text": [
      "['This', 'string', 'will be split']\n",
      "['This string will', 'be', 'split']\n"
     ]
    }
   ],
   "source": [
    "my_string = \"This string will be split\"\n",
    "\n",
    "print(\n",
    "    my_string.split(sep=\" \", maxsplit=2),\n",
    "    my_string.rsplit(sep=\" \", maxsplit=2),\n",
    "    sep = \"\\n\"\n",
    ")"
   ]
  },
  {
   "cell_type": "markdown",
   "metadata": {},
   "source": [
    "* Breaking at line boundaries - `.splitlines()`\n",
    "\n",
    "| Escape Sequence | Character |\n",
    "|---|---|\n",
    "| **\\n** | New line |\n",
    "| **\\r** | Carriage return |"
   ]
  },
  {
   "cell_type": "code",
   "execution_count": 6,
   "metadata": {},
   "outputs": [
    {
     "name": "stdout",
     "output_type": "stream",
     "text": [
      "This string will be split\n",
      "in two\n",
      "['This string will be split', 'in two']\n"
     ]
    }
   ],
   "source": [
    "my_string = \"This string will be split\\nin two\"\n",
    "print(\n",
    "    my_string,\n",
    "    my_string.splitlines(),\n",
    "    sep = \"\\n\"\n",
    ")"
   ]
  },
  {
   "cell_type": "markdown",
   "metadata": {},
   "source": [
    "* Joining, concatenate strings from list or another iterable - `sep.join(iterable)`"
   ]
  },
  {
   "cell_type": "code",
   "execution_count": 7,
   "metadata": {},
   "outputs": [
    {
     "name": "stdout",
     "output_type": "stream",
     "text": [
      "this would be a string\n"
     ]
    }
   ],
   "source": [
    "my_list = [\"this\", \"would\", \"be\", \"a\", \"string\"]\n",
    "print(\" \".join(my_list))"
   ]
  },
  {
   "cell_type": "markdown",
   "metadata": {},
   "source": [
    "* Strips characters from left to right: `.strip()`\n",
    " + Remove characters from the right end: `.rstrip()`\n",
    " + Remove characters from the left end: `.lstrip()`"
   ]
  },
  {
   "cell_type": "code",
   "execution_count": 10,
   "metadata": {},
   "outputs": [
    {
     "name": "stdout",
     "output_type": "stream",
     "text": [
      "This string will be stripped.\n",
      "\n",
      " This string will be stripped.\n",
      "This string will be stripped.\n",
      "\n"
     ]
    }
   ],
   "source": [
    "my_string = \" This string will be stripped.\\n\"\n",
    "\n",
    "print(\n",
    "    my_string.strip(\" \"),\n",
    "    my_string.rstrip(),\n",
    "    my_string.lstrip(),\n",
    "    sep = \"\\n\"\n",
    ")"
   ]
  },
  {
   "cell_type": "code",
   "execution_count": 12,
   "metadata": {},
   "outputs": [
    {
     "name": "stdout",
     "output_type": "stream",
     "text": [
      "$i supposed that coming from mtv films i should expect no less$\n",
      "\n",
      "i supposed that coming from mtv films i should expect no less\n",
      "\n",
      "['i', 'supposed', 'that', 'coming', 'from', 'mtv', 'films', 'i', 'should', 'expect', 'no', 'less']\n",
      "\n",
      "suppos\n"
     ]
    }
   ],
   "source": [
    "movie = '$I supposed that coming from MTV Films I should expect no less$'\n",
    "\n",
    "# Convert to lowercase and print the result\n",
    "movie_lower = movie.lower()\n",
    "\n",
    "# Remove whitespaces and print the result\n",
    "movie_no_space = movie_lower.strip(\"$\")\n",
    "\n",
    "# Split the string into substrings and print the result\n",
    "movie_split = movie_no_space.split()\n",
    "\n",
    "# Select root word and print the result\n",
    "word_root = movie_split[1][:-2]\n",
    "\n",
    "print(\n",
    "    movie_lower,\n",
    "    movie_no_space,\n",
    "    movie_split,\n",
    "    word_root,\n",
    "    sep = \"\\n\\n\"\n",
    ")"
   ]
  },
  {
   "cell_type": "code",
   "execution_count": 13,
   "metadata": {},
   "outputs": [
    {
     "name": "stdout",
     "output_type": "stream",
     "text": [
      "the film,however,is all good\n",
      "['the film', 'however', 'is all good']\n",
      "the film however is all good\n"
     ]
    }
   ],
   "source": [
    "movie = 'the film,however,is all good<\\\\i>'\n",
    "\n",
    "# Remove tags happening at the end and print results\n",
    "movie_tag = movie.rstrip(\"<\\i>\")\n",
    "\n",
    "# Split the string using commas and print results\n",
    "movie_no_comma = movie_tag.split(\",\")\n",
    "\n",
    "# Join back together and print results\n",
    "movie_join = \" \".join(movie_no_comma)\n",
    "\n",
    "print(\n",
    "    movie_tag,\n",
    "    movie_no_comma,\n",
    "    movie_join,\n",
    "    sep = \"\\n\"\n",
    ")"
   ]
  },
  {
   "cell_type": "code",
   "execution_count": 14,
   "metadata": {},
   "outputs": [
    {
     "name": "stdout",
     "output_type": "stream",
     "text": [
      "['mtv films election, a high school comedy, is a current example', 'from there, director steven spielberg wastes no time, taking us into the water on a midnight swim']\n"
     ]
    }
   ],
   "source": [
    "file = 'mtv films election, a high school comedy, is a current example\\nfrom there, director steven spielberg wastes no time, taking us into the water on a midnight swim'\n",
    "\n",
    "# Split string at line boundaries\n",
    "file_split = file.splitlines()\n",
    "\n",
    "print(file_split)"
   ]
  },
  {
   "cell_type": "code",
   "execution_count": 15,
   "metadata": {},
   "outputs": [
    {
     "name": "stdout",
     "output_type": "stream",
     "text": [
      "['mtv films election', ' a high school comedy', ' is a current example']\n",
      "['from there', ' director steven spielberg wastes no time', ' taking us into the water on a midnight swim']\n"
     ]
    }
   ],
   "source": [
    "# Complete for-loop to split by commas\n",
    "for substring in file_split:\n",
    "    substring_split = substring.split(\",\")\n",
    "    print(substring_split)"
   ]
  },
  {
   "cell_type": "markdown",
   "metadata": {},
   "source": [
    "### 1.3 - Finding and replacing\n",
    "* Fiding substrings - default `string.find(substring)`, optional `string.find(substring, start, end)`\n",
    "* Index function - default `string.index(substring)`, optional `string.index(substring, start, end)`. Similar to `.find()` to find the index/location of a substring, but will return an error if the substring is not included in the string\n",
    "* Counting occurrences - default `string.count(substring)`, optional `string.count(substring, start, end)`\n",
    "* Replacing substrings - default `string.replace(old, new)`, optional `string.replace(old, new, count)` in which `count` stands for the numbre of occurrences to be replaced"
   ]
  },
  {
   "cell_type": "code",
   "execution_count": 17,
   "metadata": {},
   "outputs": [
    {
     "name": "stdout",
     "output_type": "stream",
     "text": [
      "8\n",
      "-1\n",
      "-1\n"
     ]
    }
   ],
   "source": [
    "# 1. \".find()\"\n",
    "my_string = \"Where's Waldo?\"\n",
    "\n",
    "print(\n",
    "    my_string.find(\"Waldo\"),\n",
    "    my_string.find(\"Wenda\"), # Doesn't include this substring - returns -1\n",
    "    my_string.find(\"Waldo\", 0, 6),\n",
    "    sep = \"\\n\"\n",
    ")"
   ]
  },
  {
   "cell_type": "code",
   "execution_count": 18,
   "metadata": {},
   "outputs": [
    {
     "name": "stdout",
     "output_type": "stream",
     "text": [
      "Not found\n"
     ]
    }
   ],
   "source": [
    "# 2. \".index()\"\n",
    "try:\n",
    "    my_string.index(\"Wenda\")\n",
    "except ValueError:\n",
    "    print(\"Not found\")"
   ]
  },
  {
   "cell_type": "code",
   "execution_count": 19,
   "metadata": {},
   "outputs": [
    {
     "name": "stdout",
     "output_type": "stream",
     "text": [
      "2\n",
      "1\n"
     ]
    }
   ],
   "source": [
    "# 3. \".count()\"\n",
    "my_string = \"How many fruits do you have in your fruit basket?\"\n",
    "\n",
    "print(\n",
    "    my_string.count(\"fruit\"),\n",
    "    my_string.count(\"fruit\", 0, 16),\n",
    "    sep = \"\\n\"\n",
    ")"
   ]
  },
  {
   "cell_type": "code",
   "execution_count": 20,
   "metadata": {},
   "outputs": [
    {
     "name": "stdout",
     "output_type": "stream",
     "text": [
      "The red car is between the blue car and the old car\n",
      "The red car is between the blue car and the old house\n"
     ]
    }
   ],
   "source": [
    "# 4. \".replace()\"\n",
    "my_string = \"The red house is between the blue house and the old house\"\n",
    "\n",
    "print(\n",
    "    my_string.replace(\"house\",\"car\"),\n",
    "    my_string.replace(\"house\",\"car\",2),\n",
    "    sep = \"\\n\"\n",
    ")"
   ]
  },
  {
   "cell_type": "markdown",
   "metadata": {},
   "source": [
    "## Chapter 2 - Formmating Strings\n",
    "\n",
    "Which method to use?\n",
    "\n",
    "1. `str.format()`:\n",
    " + Good to start with. Concepts apply to f-strings.\n",
    " + Compatible with all versions of Python.\n",
    "2. f-strings:\n",
    " + Always advisable above all methods.\n",
    " + Not suitable if not working with modern versions of Python (3.6+).\n",
    "3. Template strings:\n",
    " + When working with external or user-provided strings\n",
    "\n",
    "### 2.1 - Positional formatting\n",
    "Intro to string formatting:\n",
    "* String formatting is also known as string interpolation - insert a custom string / variable in predefined text.\n",
    "* Methods for formatting:\n",
    " + Positional formatting\n",
    " + Formatted string literals\n",
    " + Template method\n",
    "\n",
    "Positional formatting:\n",
    "* Positional formatting:\n",
    " + Placeholder replace by value, `'text{}'.format(value)`\n",
    " + `str.format()`\n",
    " + Use variables for both the initial string and the values passed into the method\n",
    "* Reordering values:\n",
    " + Include an index number into the placeholders to reorder values\n",
    "* Named placeholders:\n",
    " + Specify a name for the placeholders\n",
    "* Format specifier: specify data type to be used - `{index:specifier}`\n",
    "* Formatting datetime using `datetime.now()`"
   ]
  },
  {
   "cell_type": "code",
   "execution_count": 21,
   "metadata": {},
   "outputs": [
    {
     "name": "stdout",
     "output_type": "stream",
     "text": [
      "String formatting is a powerful technique\n"
     ]
    }
   ],
   "source": [
    "custom_string = \"String formatting\"\n",
    "print(f\"{custom_string} is a powerful technique\")"
   ]
  },
  {
   "cell_type": "markdown",
   "metadata": {},
   "source": [
    "1. Placeholders replaced by values"
   ]
  },
  {
   "cell_type": "code",
   "execution_count": 22,
   "metadata": {},
   "outputs": [
    {
     "name": "stdout",
     "output_type": "stream",
     "text": [
      "Machine learning provides systems the ability to learn automatically\n"
     ]
    }
   ],
   "source": [
    "print(\"Machine learning provides {} the ability to learn {}\"\\\n",
    "      .format(\"systems\", \"automatically\"))"
   ]
  },
  {
   "cell_type": "code",
   "execution_count": 23,
   "metadata": {},
   "outputs": [
    {
     "name": "stdout",
     "output_type": "stream",
     "text": [
      "Supervised algorithms rely on labeled datasets\n"
     ]
    }
   ],
   "source": [
    "my_string = \"{} rely on {} datasets\"\n",
    "method = \"Supervised algorithms\"\n",
    "condition = \"labeled\"\n",
    "\n",
    "print(my_string.format(method, condition))"
   ]
  },
  {
   "cell_type": "markdown",
   "metadata": {},
   "source": [
    "2. Reordering values"
   ]
  },
  {
   "cell_type": "code",
   "execution_count": 24,
   "metadata": {},
   "outputs": [
    {
     "name": "stdout",
     "output_type": "stream",
     "text": [
      "Betty has a friend called Linda and a sister called Daisy\n"
     ]
    }
   ],
   "source": [
    "print(\"{} has a friend called {} and a sister called {}\"\\\n",
    "      .format(\"Betty\", \"Linda\", \"Daisy\"))"
   ]
  },
  {
   "cell_type": "code",
   "execution_count": 25,
   "metadata": {},
   "outputs": [
    {
     "name": "stdout",
     "output_type": "stream",
     "text": [
      "Daisy has a friend called Betty and a sister called Linda\n"
     ]
    }
   ],
   "source": [
    "print(\"{2} has a friend called {0} and a sister called {1}\"\\\n",
    "      .format(\"Betty\", \"Linda\", \"Daisy\"))"
   ]
  },
  {
   "cell_type": "markdown",
   "metadata": {},
   "source": [
    "3. Named placeholders"
   ]
  },
  {
   "cell_type": "code",
   "execution_count": 26,
   "metadata": {},
   "outputs": [
    {
     "name": "stdout",
     "output_type": "stream",
     "text": [
      "Unsupervised algorithms try to find patterns in the dataset\n"
     ]
    }
   ],
   "source": [
    "tool=\"Unsupervised algorithms\"\n",
    "goal=\"patterns\"\n",
    "print(\"{title} try to find {aim} in the dataset\".format(title=tool, aim=goal))"
   ]
  },
  {
   "cell_type": "code",
   "execution_count": 27,
   "metadata": {},
   "outputs": [
    {
     "name": "stdout",
     "output_type": "stream",
     "text": [
      "Unsupervised algorithms try to find patterns in the dataset\n"
     ]
    }
   ],
   "source": [
    "my_methods = {\"tool\": \"Unsupervised algorithms\", \"goal\": \"patterns\"}\n",
    "print('{data[tool]} try to find {data[goal]} in the dataset'.format(data=my_methods))"
   ]
  },
  {
   "cell_type": "markdown",
   "metadata": {},
   "source": [
    "4. Format specifier\n",
    " + `{0:f}%` - `0` index, `f` float\n",
    " + `{0:.2f}%` - round to 2 decimal points"
   ]
  },
  {
   "cell_type": "code",
   "execution_count": 28,
   "metadata": {},
   "outputs": [
    {
     "name": "stdout",
     "output_type": "stream",
     "text": [
      "Only 0.515567% of the data produced worldwide is analyzed!\n"
     ]
    }
   ],
   "source": [
    "print(\"Only {0:f}% of the {1} produced worldwide is {2}!\"\\\n",
    "      .format(0.5155675, \"data\", \"analyzed\"))"
   ]
  },
  {
   "cell_type": "code",
   "execution_count": 29,
   "metadata": {},
   "outputs": [
    {
     "name": "stdout",
     "output_type": "stream",
     "text": [
      "Only 0.52% of the data produced worldwide is analyzed!\n"
     ]
    }
   ],
   "source": [
    "print(\"Only {0:.2f}% of the {1} produced worldwide is {2}!\"\\\n",
    "      .format(0.5155675, \"data\", \"analyzed\"))"
   ]
  },
  {
   "cell_type": "markdown",
   "metadata": {},
   "source": [
    "5. Formatting datetime"
   ]
  },
  {
   "cell_type": "code",
   "execution_count": 30,
   "metadata": {},
   "outputs": [
    {
     "name": "stdout",
     "output_type": "stream",
     "text": [
      "2020-08-17 10:28:19.273608\n"
     ]
    }
   ],
   "source": [
    "from datetime import datetime\n",
    "print(datetime.now())"
   ]
  },
  {
   "cell_type": "code",
   "execution_count": 31,
   "metadata": {},
   "outputs": [
    {
     "name": "stdout",
     "output_type": "stream",
     "text": [
      "Today's date is 2020-08-17 10:28\n"
     ]
    }
   ],
   "source": [
    "print(\"Today's date is {:%Y-%m-%d %H:%M}\".format(datetime.now()))"
   ]
  },
  {
   "cell_type": "markdown",
   "metadata": {},
   "source": [
    "Example:"
   ]
  },
  {
   "cell_type": "code",
   "execution_count": 33,
   "metadata": {},
   "outputs": [
    {
     "name": "stdout",
     "output_type": "stream",
     "text": [
      "Good morning! Today is August 17, 2020. It's 10:46 ... time to work!\n"
     ]
    }
   ],
   "source": [
    "from datetime import datetime\n",
    "\n",
    "get_date = datetime.now()\n",
    "message = \"Good morning! Today is {today:%B %d, %Y}. It's {today:%H:%M} ... time to work!\"\n",
    "\n",
    "print(message.format(today=get_date))"
   ]
  },
  {
   "cell_type": "markdown",
   "metadata": {},
   "source": [
    "### 2.2 - Formatted string literal\n",
    "\n",
    "* f-string - `f\"literal string {expression}\"`\n",
    "* Type conversion:\n",
    " + `!s` (string version)\n",
    " + `!r` (string containing a printable representation, i.e. with quotes)\n",
    " + `!a` (some as !r but escape the non-ASCII characters)\n",
    "* Standard format specier:\n",
    " + `e` (scientic notation, e.g. 5 10^3)\n",
    " + `d` (digit, e.g. 4)\n",
    " + `f` (oat, e.g. 4.5353)\n",
    "* Index lookups - Use `''` in `\"\"`.\n",
    " + Escape sequences `\\`\n",
    "* Inline operations, an advantage of f-string\n",
    "* Calling functions, an advantage of f-string"
   ]
  },
  {
   "cell_type": "markdown",
   "metadata": {},
   "source": [
    "1. f-string"
   ]
  },
  {
   "cell_type": "code",
   "execution_count": 34,
   "metadata": {},
   "outputs": [
    {
     "name": "stdout",
     "output_type": "stream",
     "text": [
      "Practicing how to code is the best method for learning Python faster\n"
     ]
    }
   ],
   "source": [
    "way = \"code\"\n",
    "method = \"learning Python faster\"\n",
    "print(f\"Practicing how to {way} is the best method for {method}\")"
   ]
  },
  {
   "cell_type": "markdown",
   "metadata": {},
   "source": [
    "2. Type conversion"
   ]
  },
  {
   "cell_type": "code",
   "execution_count": 35,
   "metadata": {},
   "outputs": [
    {
     "name": "stdout",
     "output_type": "stream",
     "text": [
      "Python is called 'Python' due to a comedy series\n"
     ]
    }
   ],
   "source": [
    "name = \"Python\"\n",
    "print(f\"Python is called {name!r} due to a comedy series\")"
   ]
  },
  {
   "cell_type": "markdown",
   "metadata": {},
   "source": [
    "3. Format specifier"
   ]
  },
  {
   "cell_type": "code",
   "execution_count": 36,
   "metadata": {},
   "outputs": [
    {
     "name": "stdout",
     "output_type": "stream",
     "text": [
      "In the last 2 years, 90.42% of the data was produced worldwide!\n"
     ]
    }
   ],
   "source": [
    "number = 90.41890417471841\n",
    "print(f\"In the last 2 years, {number:.2f}% of the data was produced worldwide!\")"
   ]
  },
  {
   "cell_type": "code",
   "execution_count": 37,
   "metadata": {},
   "outputs": [
    {
     "name": "stdout",
     "output_type": "stream",
     "text": [
      "Today's date is August 17, 2020\n"
     ]
    }
   ],
   "source": [
    "from datetime import datetime\n",
    "\n",
    "my_today = datetime.now()\n",
    "print(f\"Today's date is {my_today:%B %d, %Y}\")"
   ]
  },
  {
   "cell_type": "markdown",
   "metadata": {},
   "source": [
    "4. Index lookups"
   ]
  },
  {
   "cell_type": "code",
   "execution_count": 38,
   "metadata": {},
   "outputs": [
    {
     "name": "stdout",
     "output_type": "stream",
     "text": [
      "Is your dad called John?\n"
     ]
    }
   ],
   "source": [
    "family = {\"dad\": \"John\", \"siblings\": \"Peter\"}\n",
    "print(\"Is your dad called {family[dad]}?\".format(family=family))"
   ]
  },
  {
   "cell_type": "code",
   "execution_count": 39,
   "metadata": {},
   "outputs": [
    {
     "ename": "NameError",
     "evalue": "name 'dad' is not defined",
     "output_type": "error",
     "traceback": [
      "\u001b[0;31m---------------------------------------------------------------------------\u001b[0m",
      "\u001b[0;31mNameError\u001b[0m                                 Traceback (most recent call last)",
      "\u001b[0;32m<ipython-input-39-be2e298c33a5>\u001b[0m in \u001b[0;36m<module>\u001b[0;34m\u001b[0m\n\u001b[0;32m----> 1\u001b[0;31m \u001b[0mprint\u001b[0m\u001b[0;34m(\u001b[0m\u001b[0;34mf\"Is your dad called {family[dad]}?\"\u001b[0m\u001b[0;34m)\u001b[0m\u001b[0;34m\u001b[0m\u001b[0;34m\u001b[0m\u001b[0m\n\u001b[0m",
      "\u001b[0;31mNameError\u001b[0m: name 'dad' is not defined"
     ]
    }
   ],
   "source": [
    "print(f\"Is your dad called {family[dad]}?\")"
   ]
  },
  {
   "cell_type": "code",
   "execution_count": 40,
   "metadata": {},
   "outputs": [
    {
     "ename": "SyntaxError",
     "evalue": "invalid syntax (<ipython-input-40-8fa3864c5339>, line 1)",
     "output_type": "error",
     "traceback": [
      "\u001b[0;36m  File \u001b[0;32m\"<ipython-input-40-8fa3864c5339>\"\u001b[0;36m, line \u001b[0;32m1\u001b[0m\n\u001b[0;31m    print(\"My dad is called \"John\"\")\u001b[0m\n\u001b[0m                                ^\u001b[0m\n\u001b[0;31mSyntaxError\u001b[0m\u001b[0;31m:\u001b[0m invalid syntax\n"
     ]
    }
   ],
   "source": [
    "print(\"My dad is called \"John\"\")"
   ]
  },
  {
   "cell_type": "code",
   "execution_count": 42,
   "metadata": {},
   "outputs": [
    {
     "name": "stdout",
     "output_type": "stream",
     "text": [
      "My dad is called \"John\"\n"
     ]
    }
   ],
   "source": [
    "my_string = \"My dad is called \\\"John\\\"\"\n",
    "print(my_string)"
   ]
  },
  {
   "cell_type": "code",
   "execution_count": 43,
   "metadata": {},
   "outputs": [
    {
     "ename": "SyntaxError",
     "evalue": "f-string expression part cannot include a backslash (<ipython-input-43-891b946e948e>, line 1)",
     "output_type": "error",
     "traceback": [
      "\u001b[0;36m  File \u001b[0;32m\"<ipython-input-43-891b946e948e>\"\u001b[0;36m, line \u001b[0;32m1\u001b[0m\n\u001b[0;31m    print(f\"Is your dad called {family[\\\"dad\\\"]}?\")\u001b[0m\n\u001b[0m         ^\u001b[0m\n\u001b[0;31mSyntaxError\u001b[0m\u001b[0;31m:\u001b[0m f-string expression part cannot include a backslash\n"
     ]
    }
   ],
   "source": [
    "print(f\"Is your dad called {family[\\\"dad\\\"]}?\")"
   ]
  },
  {
   "cell_type": "code",
   "execution_count": 44,
   "metadata": {},
   "outputs": [
    {
     "name": "stdout",
     "output_type": "stream",
     "text": [
      "Is your dad called John?\n"
     ]
    }
   ],
   "source": [
    "print(f\"Is your dad called {family['dad']}?\")"
   ]
  },
  {
   "cell_type": "markdown",
   "metadata": {},
   "source": [
    "5. Inline operations"
   ]
  },
  {
   "cell_type": "code",
   "execution_count": 45,
   "metadata": {},
   "outputs": [
    {
     "name": "stdout",
     "output_type": "stream",
     "text": [
      "4 multiplied by 7 is 28\n"
     ]
    }
   ],
   "source": [
    "my_number = 4\n",
    "my_multiplier = 7\n",
    "print(f'{my_number} multiplied by {my_multiplier} is {my_number * my_multiplier}')"
   ]
  },
  {
   "cell_type": "markdown",
   "metadata": {},
   "source": [
    "6. Calling functions"
   ]
  },
  {
   "cell_type": "code",
   "execution_count": 46,
   "metadata": {},
   "outputs": [
    {
     "name": "stdout",
     "output_type": "stream",
     "text": [
      "If you sum up 10 and 20 the result is 30\n"
     ]
    }
   ],
   "source": [
    "def my_function(a, b):\n",
    "    return a + b\n",
    "print(f\"If you sum up 10 and 20 the result is {my_function(10, 20)}\")"
   ]
  },
  {
   "cell_type": "markdown",
   "metadata": {},
   "source": [
    "### 2.3 - Template methods\n",
    "\n",
    "* Slower syntax then f-strings. Don't allow format specifiers. Good with externally formatted strings.\n",
    "* `from string import Template`\n",
    "* Substitution with `.substitute`, can substitute many `$identifier`\n",
    " + Use `${identifier}` when valide characters follow identifier\n",
    " + Use `$$` to escape the dollar sign\n",
    " + `.substitute()` raises error when placeholder is missing\n",
    " + Use `.safte_substitute()` to return a usable string"
   ]
  },
  {
   "cell_type": "markdown",
   "metadata": {},
   "source": [
    "1. Basic syntax"
   ]
  },
  {
   "cell_type": "code",
   "execution_count": 47,
   "metadata": {},
   "outputs": [
    {
     "data": {
      "text/plain": [
       "'Data science has been called sexiest job of the 21st century'"
      ]
     },
     "execution_count": 47,
     "metadata": {},
     "output_type": "execute_result"
    }
   ],
   "source": [
    "from string import Template\n",
    "my_string = Template('Data science has been called $identifier')\n",
    "my_string.substitute(identifier=\"sexiest job of the 21st century\")"
   ]
  },
  {
   "cell_type": "markdown",
   "metadata": {},
   "source": [
    "2. Substitution"
   ]
  },
  {
   "cell_type": "code",
   "execution_count": 48,
   "metadata": {},
   "outputs": [
    {
     "data": {
      "text/plain": [
       "'Data science has been called sexiest job of the 21st century'"
      ]
     },
     "execution_count": 48,
     "metadata": {},
     "output_type": "execute_result"
    }
   ],
   "source": [
    "job = \"Data science\"\n",
    "name = \"sexiest job of the 21st century\"\n",
    "my_string = Template('$title has been called $description')\n",
    "my_string.substitute(title=job, description=name)"
   ]
  },
  {
   "cell_type": "code",
   "execution_count": 49,
   "metadata": {},
   "outputs": [
    {
     "data": {
      "text/plain": [
       "'I find Python very interesting but my sister has lost interest'"
      ]
     },
     "execution_count": 49,
     "metadata": {},
     "output_type": "execute_result"
    }
   ],
   "source": [
    "my_string = Template('I find Python very ${noun}ing but my sister has lost $noun')\n",
    "my_string.substitute(noun=\"interest\")"
   ]
  },
  {
   "cell_type": "code",
   "execution_count": 50,
   "metadata": {},
   "outputs": [
    {
     "data": {
      "text/plain": [
       "'I paid for the Python course only $ 12.50, amazing!'"
      ]
     },
     "execution_count": 50,
     "metadata": {},
     "output_type": "execute_result"
    }
   ],
   "source": [
    "my_string = Template('I paid for the Python course only $$ $price, amazing!')\n",
    "my_string.substitute(price=\"12.50\")"
   ]
  },
  {
   "cell_type": "code",
   "execution_count": null,
   "metadata": {},
   "outputs": [],
   "source": [
    "favorite = dict(flavor=\"chocolate\")\n",
    "my_string = Template('I love $flavor $cake very much')\n",
    "my_string.substitute(favorite) # will raise an error"
   ]
  },
  {
   "cell_type": "code",
   "execution_count": 52,
   "metadata": {},
   "outputs": [
    {
     "name": "stdout",
     "output_type": "stream",
     "text": [
      "missing information\n"
     ]
    }
   ],
   "source": [
    "try:\n",
    "    my_string.substitute(favorite)\n",
    "except KeyError:\n",
    "    print(\"missing information\")"
   ]
  },
  {
   "cell_type": "code",
   "execution_count": 53,
   "metadata": {},
   "outputs": [
    {
     "data": {
      "text/plain": [
       "'I love chocolate $cake very much'"
      ]
     },
     "execution_count": 53,
     "metadata": {},
     "output_type": "execute_result"
    }
   ],
   "source": [
    "my_string.safe_substitute(favorite)"
   ]
  },
  {
   "cell_type": "markdown",
   "metadata": {},
   "source": [
    "**Side notes**:\n",
    "1. **Natural Language Toolkit** is a suite of libraries and programs for symbolic and statistical natural language processing (NLP) for English written in the Python programming language. It was developed by Steven Bird and Edward Loper in the Department of Computer and Information Science at the University of Pennsylvania.\n",
    "2. **TextBlob** is a Python library for processing textual data. It provides a simple API for diving into common natural language processing tasks such as part-of-speech tagging, noun phrase extraction, sentiment analysis, classification, translation, and more.\n",
    "3. **Gensim** is a robust open-source vector space modeling and topic modeling toolkit implemented in Python. It uses `NumPy`, `SciPy` and optionally `Cython` for performance. Gensim is specifically designed to handle large text collections, using data streaming and efficient incremental algorithms, which differentiates it from most other scientific software packages that only target batch and in-memory processing."
   ]
  },
  {
   "cell_type": "markdown",
   "metadata": {},
   "source": [
    "Example:"
   ]
  },
  {
   "cell_type": "code",
   "execution_count": 55,
   "metadata": {},
   "outputs": [
    {
     "name": "stdout",
     "output_type": "stream",
     "text": [
      "We are offering a 3-month beginner course on Natural Language Toolkit just for $20 monthly\n"
     ]
    }
   ],
   "source": [
    "tools = ['Natural Language Toolkit', '20', 'month']\n",
    "\n",
    "our_tool = tools[0]\n",
    "our_fee = tools[1]\n",
    "our_pay = tools[2]\n",
    "\n",
    "course = Template(\"We are offering a 3-month beginner course on $tool just for $$$fee ${pay}ly\")\n",
    "\n",
    "print(course.substitute(tool=our_tool,fee=our_fee,pay=our_pay))"
   ]
  },
  {
   "cell_type": "markdown",
   "metadata": {},
   "source": [
    "## Chapter 3 - Regular Expressions for Pattern Matching\n",
    "\n",
    "1. Intro to regular expressions\n",
    "2. Repetitions\n",
    "3. Regex metacharacters\n",
    "4. Greedy vs. non-greedy matching"
   ]
  },
  {
   "cell_type": "markdown",
   "metadata": {},
   "source": [
    "### 3.1 - Intro to regular expressions\n",
    "\n",
    "An example: `r'st\\d\\s\\w{3,10}`\n",
    "- Normal characters match themselves `st`\n",
    "- Metacharacters represent types of characters (`\\d`, `\\s`, `\\w`) or ideas (`{3,10}`)\n",
    "\n",
    "* The `re` module\n",
    " + Find all matches of a pattern: `re.findall(r\"regex\", string)`\n",
    " + Split string at each match: `re.split(r\"regex\", string)`\n",
    " + Replace one or many matches with a string: `re.sub(r\"regex\", new, string)`\n",
    " + Supported metacharacters\n",
    "\n",
    "| Metacharacter | Meaning |\n",
    "|---|---|\n",
    "| \\d | Digit |\n",
    "| \\D | Non-digit |\n",
    "| \\w | word |\n",
    "| \\W | Non-word |\n",
    "| \\s | whitespace |\n",
    "| \\S | Non-whitespace |"
   ]
  },
  {
   "cell_type": "markdown",
   "metadata": {},
   "source": [
    "1. Find all matches of a pattern:"
   ]
  },
  {
   "cell_type": "code",
   "execution_count": 57,
   "metadata": {},
   "outputs": [
    {
     "data": {
      "text/plain": [
       "['#movies', '#movies']"
      ]
     },
     "execution_count": 57,
     "metadata": {},
     "output_type": "execute_result"
    }
   ],
   "source": [
    "import re\n",
    "\n",
    "re.findall(r\"#movies\", \"Love #movies! I had fun yesterday going to the #movies\")"
   ]
  },
  {
   "cell_type": "markdown",
   "metadata": {},
   "source": [
    "2. Split string at each match:"
   ]
  },
  {
   "cell_type": "code",
   "execution_count": 58,
   "metadata": {},
   "outputs": [
    {
     "data": {
      "text/plain": [
       "['Nice Place to eat', \" I'll come back\", ' Excellent meat', '']"
      ]
     },
     "execution_count": 58,
     "metadata": {},
     "output_type": "execute_result"
    }
   ],
   "source": [
    "re.split(r\"!\", \"Nice Place to eat! I'll come back! Excellent meat!\")"
   ]
  },
  {
   "cell_type": "markdown",
   "metadata": {},
   "source": [
    "3. Replace one or many matches with a string:"
   ]
  },
  {
   "cell_type": "code",
   "execution_count": 59,
   "metadata": {},
   "outputs": [
    {
     "data": {
      "text/plain": [
       "'I have a nice car and a nice house in a nice neighborhood'"
      ]
     },
     "execution_count": 59,
     "metadata": {},
     "output_type": "execute_result"
    }
   ],
   "source": [
    "re.sub(r\"yellow\", \"nice\", \"I have a yellow car and a yellow house in a yellow neighborhood\")"
   ]
  },
  {
   "cell_type": "markdown",
   "metadata": {},
   "source": [
    "4. Metacharacters"
   ]
  },
  {
   "cell_type": "code",
   "execution_count": 60,
   "metadata": {},
   "outputs": [
    {
     "data": {
      "text/plain": [
       "['User9', 'User8']"
      ]
     },
     "execution_count": 60,
     "metadata": {},
     "output_type": "execute_result"
    }
   ],
   "source": [
    "# digit\n",
    "re.findall(r\"User\\d\", \"The winners are: User9, UserN, User8\")"
   ]
  },
  {
   "cell_type": "code",
   "execution_count": 61,
   "metadata": {},
   "outputs": [
    {
     "data": {
      "text/plain": [
       "['UserN']"
      ]
     },
     "execution_count": 61,
     "metadata": {},
     "output_type": "execute_result"
    }
   ],
   "source": [
    "# non-digit\n",
    "re.findall(r\"User\\D\", \"The winners are: User9, UserN, User8\")"
   ]
  },
  {
   "cell_type": "code",
   "execution_count": 62,
   "metadata": {},
   "outputs": [
    {
     "data": {
      "text/plain": [
       "['User9', 'UserN', 'User8']"
      ]
     },
     "execution_count": 62,
     "metadata": {},
     "output_type": "execute_result"
    }
   ],
   "source": [
    "# word\n",
    "re.findall(r\"User\\w\", \"The winners are: User9, UserN, User8\")"
   ]
  },
  {
   "cell_type": "code",
   "execution_count": 63,
   "metadata": {},
   "outputs": [
    {
     "data": {
      "text/plain": [
       "['$5']"
      ]
     },
     "execution_count": 63,
     "metadata": {},
     "output_type": "execute_result"
    }
   ],
   "source": [
    "# non-word\n",
    "re.findall(r\"\\W\\d\", \"This skirt is on sale, only $5 today!\")"
   ]
  },
  {
   "cell_type": "code",
   "execution_count": 64,
   "metadata": {},
   "outputs": [
    {
     "data": {
      "text/plain": [
       "['Data Science']"
      ]
     },
     "execution_count": 64,
     "metadata": {},
     "output_type": "execute_result"
    }
   ],
   "source": [
    "# whitespace\n",
    "re.findall(r\"Data\\sScience\", \"I enjoy learning Data Science\")"
   ]
  },
  {
   "cell_type": "code",
   "execution_count": 65,
   "metadata": {},
   "outputs": [
    {
     "data": {
      "text/plain": [
       "'I really like ice cream'"
      ]
     },
     "execution_count": 65,
     "metadata": {},
     "output_type": "execute_result"
    }
   ],
   "source": [
    "# non-whitespace\n",
    "re.sub(r\"ice\\Scream\", \"ice cream\", \"I really like ice-cream\")"
   ]
  },
  {
   "cell_type": "markdown",
   "metadata": {},
   "source": [
    "Examples:"
   ]
  },
  {
   "cell_type": "code",
   "execution_count": 66,
   "metadata": {},
   "outputs": [
    {
     "name": "stdout",
     "output_type": "stream",
     "text": [
      "['@robot9!', '@robot4&', '@robot9$', '@robot7%']\n"
     ]
    }
   ],
   "source": [
    "sentiment_analysis = '@robot9! @robot4& I have a good feeling\\\n",
    "that the show isgoing to be amazing! @robot9$ @robot7%'\n",
    "\n",
    "regex = r\"@robot\\d\\W\"\n",
    "print(re.findall(regex, sentiment_analysis))"
   ]
  },
  {
   "cell_type": "code",
   "execution_count": 67,
   "metadata": {},
   "outputs": [
    {
     "name": "stdout",
     "output_type": "stream",
     "text": [
      "He is in love with scrappy. He is missing him already\n"
     ]
    }
   ],
   "source": [
    "sentiment_analysis = 'He#newHis%newTin love with$newPscrappy.\\\n",
    "#8break%He is&newYmissing him@newLalready'\n",
    "\n",
    "regex_sentence = r\"\\W\\dbreak\\W\"\n",
    "sentiment_sub = re.sub(regex_sentence, \" \", sentiment_analysis)\n",
    "\n",
    "regex_words = r\"\\Wnew\\w\"\n",
    "sentiment_final = re.sub(regex_words, \" \", sentiment_sub)\n",
    "\n",
    "print(sentiment_final)"
   ]
  },
  {
   "cell_type": "markdown",
   "metadata": {},
   "source": [
    "### 3.2 - Repetitions\n",
    "* Repeated characters using `{Number}`\n",
    "* Quantifiers:\n",
    " + Once or more: `+`\n",
    " + Zero times or more: `*`\n",
    " + Zero times or once: `?`\n",
    " + n times at least, m times at most : `{n, m}`"
   ]
  },
  {
   "cell_type": "code",
   "execution_count": 68,
   "metadata": {},
   "outputs": [
    {
     "data": {
      "text/plain": [
       "<re.Match object; span=(0, 12), match='password1234'>"
      ]
     },
     "execution_count": 68,
     "metadata": {},
     "output_type": "execute_result"
    }
   ],
   "source": [
    "import re\n",
    "\n",
    "password = \"password1234\"\n",
    "re.search(r\"\\w{8}\\d{4}\", password)"
   ]
  },
  {
   "cell_type": "code",
   "execution_count": 69,
   "metadata": {},
   "outputs": [
    {
     "data": {
      "text/plain": [
       "['4-3', '10-04']"
      ]
     },
     "execution_count": 69,
     "metadata": {},
     "output_type": "execute_result"
    }
   ],
   "source": [
    "text = \"Date of start: 4-3. Date of registration: 10-04.\"\n",
    "re.findall(r\"\\d+-\\d+\", text)"
   ]
  },
  {
   "cell_type": "code",
   "execution_count": 70,
   "metadata": {},
   "outputs": [
    {
     "data": {
      "text/plain": [
       "['@ameli!a', '@joh&&n', '@mary90']"
      ]
     },
     "execution_count": 70,
     "metadata": {},
     "output_type": "execute_result"
    }
   ],
   "source": [
    "my_string = \"The concert was amazing! @ameli!a @joh&&n @mary90\"\n",
    "re.findall(r\"@\\w+\\W*\\w+\", my_string)"
   ]
  },
  {
   "cell_type": "code",
   "execution_count": 71,
   "metadata": {},
   "outputs": [
    {
     "data": {
      "text/plain": [
       "['color', 'colour']"
      ]
     },
     "execution_count": 71,
     "metadata": {},
     "output_type": "execute_result"
    }
   ],
   "source": [
    "text = \"The color of this image is amazing. However, the colour blue could be brighter.\"\n",
    "re.findall(r\"colou?r\", text)"
   ]
  },
  {
   "cell_type": "code",
   "execution_count": 72,
   "metadata": {},
   "outputs": [
    {
     "data": {
      "text/plain": [
       "['1-966-847-3131', '54-908-42-42424']"
      ]
     },
     "execution_count": 72,
     "metadata": {},
     "output_type": "execute_result"
    }
   ],
   "source": [
    "phone_number = \"John: 1-966-847-3131 Michelle: 54-908-42-42424\"\n",
    "re.findall(r\"\\d{1,2}-\\d{3}-\\d{2,3}-\\d{4,}\", phone_number)"
   ]
  },
  {
   "cell_type": "markdown",
   "metadata": {},
   "source": [
    "### 3.3 - Regex metacharacters\n",
    "\n",
    "* Looking for patterns, `re.search()` or `re.match()`\n",
    "* Special characters\n",
    " + Match any character (except newline): `.`\n",
    " + Start ofthe string: `^`\n",
    " + End of the string: `$`\n",
    " + Escape special characters: `\\`\n",
    "* OR operators:\n",
    " + Character: `|`\n",
    " + Set of characters: `[]`\n",
    "   + `^` transforms the expression to negative (i.e., doesn't include the regex)"
   ]
  },
  {
   "cell_type": "markdown",
   "metadata": {},
   "source": [
    "1. Looking for patterns"
   ]
  },
  {
   "cell_type": "code",
   "execution_count": 74,
   "metadata": {},
   "outputs": [
    {
     "name": "stdout",
     "output_type": "stream",
     "text": [
      "<re.Match object; span=(0, 4), match='4506'>\n",
      "<re.Match object; span=(0, 4), match='4506'>\n",
      "\n",
      "\n",
      "<re.Match object; span=(17, 18), match='3'>\n",
      "None\n"
     ]
    }
   ],
   "source": [
    "print(\n",
    "    re.search(r\"\\d{4}\", \"4506 people attend the show\"),\n",
    "    re.match(r\"\\d{4}\", \"4506 people attend the show\"),\n",
    "    \"\\n\",\n",
    "    re.search(r\"\\d+\", \"Yesterday, I saw 3 shows\"),\n",
    "    re.match(r\"\\d+\",\"Yesterday, I saw 3 shows\"),\n",
    "    sep = \"\\n\"\n",
    ")"
   ]
  },
  {
   "cell_type": "markdown",
   "metadata": {},
   "source": [
    "2.1 Match any character (except newline):"
   ]
  },
  {
   "cell_type": "code",
   "execution_count": 75,
   "metadata": {},
   "outputs": [
    {
     "data": {
      "text/plain": [
       "['www.amazingpics.com']"
      ]
     },
     "execution_count": 75,
     "metadata": {},
     "output_type": "execute_result"
    }
   ],
   "source": [
    "my_links = \"Just check out this link: www.amazingpics.com. It has amazing photos!\"\n",
    "re.findall(r\"www.+com\", my_links)"
   ]
  },
  {
   "cell_type": "markdown",
   "metadata": {},
   "source": [
    "2.2 Start of the string"
   ]
  },
  {
   "cell_type": "code",
   "execution_count": 76,
   "metadata": {},
   "outputs": [
    {
     "name": "stdout",
     "output_type": "stream",
     "text": [
      "['the 80s', 'the 90s']\n",
      "['the 80s']\n"
     ]
    }
   ],
   "source": [
    "my_string = \"the 80s music was much better that the 90s\"\n",
    "print(\n",
    "    re.findall(r\"the\\s\\d+s\", my_string),\n",
    "    re.findall(r\"^the\\s\\d+s\", my_string),\n",
    "    sep = \"\\n\"\n",
    ")"
   ]
  },
  {
   "cell_type": "markdown",
   "metadata": {},
   "source": [
    "2.3 End of the string"
   ]
  },
  {
   "cell_type": "code",
   "execution_count": 77,
   "metadata": {},
   "outputs": [
    {
     "data": {
      "text/plain": [
       "['the 90s']"
      ]
     },
     "execution_count": 77,
     "metadata": {},
     "output_type": "execute_result"
    }
   ],
   "source": [
    "my_string = \"the 80s music hits were much better that the 90s\"\n",
    "re.findall(r\"the\\s\\d+s$\", my_string)"
   ]
  },
  {
   "cell_type": "markdown",
   "metadata": {},
   "source": [
    "2.4 Escape special characters:"
   ]
  },
  {
   "cell_type": "code",
   "execution_count": 78,
   "metadata": {},
   "outputs": [
    {
     "name": "stdout",
     "output_type": "stream",
     "text": [
      "['', 'lov', 'th', 'musi', 'o', 'Mr.Go', 'However', 'th', 'soun', 'wa', 'to', 'loud.']\n",
      "['I love the music of Mr.Go', 'However, the sound was too loud.']\n"
     ]
    }
   ],
   "source": [
    "my_string = \"I love the music of Mr.Go. However, the sound was too loud.\"\n",
    "print(\n",
    "    re.split(r\".\\s\", my_string),\n",
    "    re.split(r\"\\.\\s\", my_string),\n",
    "    sep = \"\\n\"\n",
    ")"
   ]
  },
  {
   "cell_type": "markdown",
   "metadata": {},
   "source": [
    "3.1 OR operator, character:"
   ]
  },
  {
   "cell_type": "code",
   "execution_count": 79,
   "metadata": {},
   "outputs": [
    {
     "data": {
      "text/plain": [
       "['Elephant', 'elephant']"
      ]
     },
     "execution_count": 79,
     "metadata": {},
     "output_type": "execute_result"
    }
   ],
   "source": [
    "my_string = \"Elephants are the world's largest land animal!\\\n",
    "I would love to see an elephant one day\"\n",
    "re.findall(r\"Elephant|elephant\", my_string)"
   ]
  },
  {
   "cell_type": "markdown",
   "metadata": {},
   "source": [
    "3.2 OR operator, set of characters:"
   ]
  },
  {
   "cell_type": "code",
   "execution_count": 80,
   "metadata": {},
   "outputs": [
    {
     "data": {
      "text/plain": [
       "['MaryJohn2', 'Clary3']"
      ]
     },
     "execution_count": 80,
     "metadata": {},
     "output_type": "execute_result"
    }
   ],
   "source": [
    "my_string = \"Yesterday I spent my afternoon with my friends: MaryJohn2 Clary3\"\n",
    "re.findall(r\"[a-zA-Z]+\\d\", my_string)"
   ]
  },
  {
   "cell_type": "code",
   "execution_count": 81,
   "metadata": {},
   "outputs": [
    {
     "data": {
      "text/plain": [
       "'My name is John Smith. I live in London.'"
      ]
     },
     "execution_count": 81,
     "metadata": {},
     "output_type": "execute_result"
    }
   ],
   "source": [
    "my_string = \"My&name&is#John Smith. I%live$in#London.\"\n",
    "re.sub(r\"[#$%&]\", \" \", my_string)"
   ]
  },
  {
   "cell_type": "code",
   "execution_count": 82,
   "metadata": {},
   "outputs": [
    {
     "data": {
      "text/plain": [
       "['www.hola.com']"
      ]
     },
     "execution_count": 82,
     "metadata": {},
     "output_type": "execute_result"
    }
   ],
   "source": [
    "my_links = \"Bad website: www.99.com. Favorite site: www.hola.com\"\n",
    "re.findall(r\"www[^0-9]+com\", my_links)"
   ]
  },
  {
   "cell_type": "markdown",
   "metadata": {},
   "source": [
    "Example:\n",
    "\n",
    "The company puts some rules in place to verify that the given email address is valid:\n",
    "\n",
    "* The first part can contain:\n",
    " + Upper `A-Z` and lowercase letters `a-z`\n",
    " + Numbers\n",
    " + Characters: `!`, `#`, `%`, `&`, `*`, `$`, `.`\n",
    "* Must have `@`\n",
    "* Domain:\n",
    " + Can contain any word characters\n",
    " + But only `.com` ending is allowed"
   ]
  },
  {
   "cell_type": "code",
   "execution_count": 83,
   "metadata": {},
   "outputs": [
    {
     "name": "stdout",
     "output_type": "stream",
     "text": [
      "The email n.john.smith@gmail.com is a valid email\n",
      "The email 87victory@hotmail.com is a valid email\n",
      "The email !#mary-=@msca.net is invalid\n"
     ]
    }
   ],
   "source": [
    "emails = ['n.john.smith@gmail.com', '87victory@hotmail.com', '!#mary-=@msca.net']\n",
    "\n",
    "regex = r\"[a-zA-Z0-9!#%&\\*\\$\\.]+@\\w+\\.com\"\n",
    "\n",
    "for example in emails:\n",
    "    if re.match(regex, example):\n",
    "        print(\"The email {email_example} is a valid email\".format(email_example=example))\n",
    "    else:\n",
    "        print(\"The email {email_example} is invalid\".format(email_example=example))"
   ]
  },
  {
   "cell_type": "markdown",
   "metadata": {},
   "source": [
    "### 3.4 Greedy vs. non-greedy matching\n",
    "\n",
    "* Standard quantiers are greedy by default: `*`, `+`, `?`, `{num, num}`\n",
    "* **Greedy**: match as many characters as possible, returns the longest match\n",
    "* **Lazy**: match as few characters as needed, returns the shortest match - Append `?` to greedy quantiers"
   ]
  },
  {
   "cell_type": "code",
   "execution_count": 84,
   "metadata": {},
   "outputs": [
    {
     "name": "stdout",
     "output_type": "stream",
     "text": [
      "<re.Match object; span=(0, 5), match='12345'>\n",
      "<re.Match object; span=(0, 1), match='1'>\n",
      "\n",
      "\n",
      "<re.Match object; span=(0, 6), match='xhello'>\n",
      "<re.Match object; span=(0, 6), match='xhello'>\n"
     ]
    }
   ],
   "source": [
    "import re\n",
    "\n",
    "print(\n",
    "    re.match(r\"\\d+\", \"12345bcada\"),\n",
    "    re.match(r\"\\d+?\", \"12345bcada\"),\n",
    "    \"\\n\",\n",
    "    re.match(r\".*hello\", \"xhelloxxxxxx\"),\n",
    "    re.match(r\".*?hello\", \"xhelloxxxxxx\"),\n",
    "    sep = \"\\n\"\n",
    ")"
   ]
  },
  {
   "cell_type": "markdown",
   "metadata": {},
   "source": [
    "## Chapter 4 - Advanced Regular Expression Concepts\n",
    "\n",
    "Contents:\n",
    "1. Capturing groups\n",
    "2. Alternation and non-capturing groups\n",
    "3. Backreferences\n",
    "4. Lookaround"
   ]
  },
  {
   "cell_type": "markdown",
   "metadata": {},
   "source": [
    "### 4.1 - Grouping and capturing \n",
    "\n",
    "* Use `()` to group and capture characters together\n",
    "* Capturing groups\n",
    " + Organize the data\n",
    " + Immediately to the left - `r\"apple+\"`: `+` applies to `e` and not to apple\n",
    " + Apply a quantier to the entire group\n",
    " + Capture a repeated group `(\\d+)` vs. repeat a capturing group `(\\d)+`"
   ]
  },
  {
   "cell_type": "code",
   "execution_count": 88,
   "metadata": {},
   "outputs": [
    {
     "data": {
      "text/plain": [
       "['Clary has 2 friends', 'Susan has 3 brothers', 'John has 4 sisters']"
      ]
     },
     "execution_count": 88,
     "metadata": {},
     "output_type": "execute_result"
    }
   ],
   "source": [
    "text = \"Clary has 2 friends who she spends a lot of time with.\\\n",
    "Susan has 3 brothers while John has 4 sisters.\"\n",
    "\n",
    "re.findall('[A-Za-z]+\\s\\w+\\s\\d+\\s\\w+', text)"
   ]
  },
  {
   "cell_type": "code",
   "execution_count": 89,
   "metadata": {},
   "outputs": [
    {
     "data": {
      "text/plain": [
       "['Clary', 'Susan', 'John']"
      ]
     },
     "execution_count": 89,
     "metadata": {},
     "output_type": "execute_result"
    }
   ],
   "source": [
    "re.findall('([A-Za-z]+)\\s\\w+\\s\\d+\\s\\w+', text)"
   ]
  },
  {
   "cell_type": "code",
   "execution_count": 90,
   "metadata": {},
   "outputs": [
    {
     "data": {
      "text/plain": [
       "[('Clary', '2', 'friends'),\n",
       " ('Susan', '3', 'brothers'),\n",
       " ('John', '4', 'sisters')]"
      ]
     },
     "execution_count": 90,
     "metadata": {},
     "output_type": "execute_result"
    }
   ],
   "source": [
    "re.findall('([A-Za-z]+)\\s\\w+\\s(\\d+)\\s(\\w+)', text)"
   ]
  },
  {
   "cell_type": "markdown",
   "metadata": {},
   "source": [
    "2.1 Organize the data"
   ]
  },
  {
   "cell_type": "code",
   "execution_count": 91,
   "metadata": {},
   "outputs": [
    {
     "data": {
      "text/plain": [
       "'Clary'"
      ]
     },
     "execution_count": 91,
     "metadata": {},
     "output_type": "execute_result"
    }
   ],
   "source": [
    "pets = re.findall('([A-Za-z]+)\\s\\w+\\s(\\d+)\\s(\\w+)', \"Clary has 2 dogs but John has 3 cats\")\n",
    "pets[0][0]"
   ]
  },
  {
   "cell_type": "markdown",
   "metadata": {},
   "source": [
    "2.3 Apply a quantier to the entire group"
   ]
  },
  {
   "cell_type": "code",
   "execution_count": 92,
   "metadata": {},
   "outputs": [
    {
     "data": {
      "text/plain": [
       "<re.Match object; span=(16, 22), match='3e4r5f'>"
      ]
     },
     "execution_count": 92,
     "metadata": {},
     "output_type": "execute_result"
    }
   ],
   "source": [
    "re.search(r\"(\\d[A-Za-z])+\", \"My user name is 3e4r5fg\")"
   ]
  },
  {
   "cell_type": "markdown",
   "metadata": {},
   "source": [
    "2.4 Capture a repeated group `(\\d+)` vs. repeat a capturing group `(\\d)+`"
   ]
  },
  {
   "cell_type": "code",
   "execution_count": 93,
   "metadata": {},
   "outputs": [
    {
     "name": "stdout",
     "output_type": "stream",
     "text": [
      "['5', '3']\n",
      "['8755', '33']\n"
     ]
    }
   ],
   "source": [
    "my_string = \"My lucky numbers are 8755 and 33\"\n",
    "\n",
    "print(\n",
    "    re.findall(r\"(\\d)+\", my_string),\n",
    "    re.findall(r\"(\\d+)\", my_string),\n",
    "    sep = \"\\n\"\n",
    ")"
   ]
  },
  {
   "cell_type": "markdown",
   "metadata": {},
   "source": [
    "Example 1:\n",
    "\n",
    "You want to extract the first part of the email. E.g. if you have the email `marysmith90@gmail.com`, you are only interested in `marysmith90`.\n",
    "You need to match the entire expression. So you make sure to extract only names present in emails. Also, you are only interested in names containing upper (e.g. A,B, Z) or lowercase letters (e.g. a, d, z) and numbers."
   ]
  },
  {
   "cell_type": "code",
   "execution_count": 94,
   "metadata": {},
   "outputs": [
    {
     "name": "stdout",
     "output_type": "stream",
     "text": [
      "Lists of users found in this tweet: ['statravelAU', 'statravelpo']\n",
      "Lists of users found in this tweet: ['Hollywoodheat34']\n",
      "Lists of users found in this tweet: ['msdrama098']\n"
     ]
    }
   ],
   "source": [
    "sentiment_analysis = [\n",
    "    'Just got ur newsletter, those fares really are unbelievable.\\\n",
    "    Write to statravelAU@gmail.com or statravelpo@hotmail.com.They have amazing prices',\\\n",
    "    'I should have paid more attention when we covered photoshop\\\n",
    "    in my webpage design class in undergrad. Contact me Hollywoodheat34@msn.net.',\\\n",
    "    'hey missed ya at the meeting. Read your email! msdrama098@hotmail.com'\n",
    "]\n",
    "\n",
    "regex_email = r\"([a-zA-Z0-9]+)@\\S+\"\n",
    "\n",
    "for tweet in sentiment_analysis:\n",
    "    email_matched = re.findall(regex_email, tweet)\n",
    "    print(\"Lists of users found in this tweet: {}\".format(email_matched))"
   ]
  },
  {
   "cell_type": "markdown",
   "metadata": {},
   "source": [
    "Example 2:\n",
    "\n",
    "You need to extract the information about the flight:\n",
    "- The two letters indicate the airline (e.g `LA`),\n",
    "- The 4 numbers are the flight number (e.g. `4214`).\n",
    "- The three letters correspond to the departure (e.g `AER`),\n",
    "- The destination (`CDB`),\n",
    "- The date (`06NOV`) of the flight."
   ]
  },
  {
   "cell_type": "code",
   "execution_count": 96,
   "metadata": {},
   "outputs": [
    {
     "name": "stdout",
     "output_type": "stream",
     "text": [
      "Airline: IB, Flight number: 3723\n",
      "Departure: AMS, Destination: MAD\n",
      "Date: 06OCT\n"
     ]
    }
   ],
   "source": [
    "import re\n",
    "\n",
    "flight = 'Subject: You are now ready to fly.\\\n",
    "Here you have your boarding pass IB3723 AMS-MAD 06OCT'\n",
    "\n",
    "regex = r\"([A-Z]{2})(\\d{4})\\s([A-Z]{3})-([A-Z]{3})\\s(\\d{2}[A-Z]{3})\"\n",
    "\n",
    "flight_matches = re.findall(regex, flight)\n",
    "    \n",
    "print(\"Airline: {}, Flight number: {}\".format(flight_matches[0][0], flight_matches[0][1]))\n",
    "print(\"Departure: {}, Destination: {}\".format(flight_matches[0][2], flight_matches[0][3]))\n",
    "print(\"Date: {}\".format(flight_matches[0][4]))"
   ]
  },
  {
   "cell_type": "markdown",
   "metadata": {},
   "source": [
    "### 4.2 - Alternation and non-capturing groups\n",
    "\n",
    "* Pipe `|`\n",
    "* Alternation, use groups to choose between optional patterns\n",
    "* Non-capturing groups:\n",
    " + When group is not backreferenced\n",
    " + Add `?:` : `(?:regex)`, match but not capture a group"
   ]
  },
  {
   "cell_type": "markdown",
   "metadata": {},
   "source": [
    "1. Pipe"
   ]
  },
  {
   "cell_type": "code",
   "execution_count": 97,
   "metadata": {},
   "outputs": [
    {
     "data": {
      "text/plain": [
       "['cat', 'dog', 'bird']"
      ]
     },
     "execution_count": 97,
     "metadata": {},
     "output_type": "execute_result"
    }
   ],
   "source": [
    "my_string = \"I want to have a pet. But I don't know if I want a cat, a dog or a bird.\"\n",
    "re.findall(r\"cat|dog|bird\", my_string)"
   ]
  },
  {
   "cell_type": "markdown",
   "metadata": {},
   "source": [
    "2. Alternation"
   ]
  },
  {
   "cell_type": "code",
   "execution_count": 99,
   "metadata": {},
   "outputs": [
    {
     "data": {
      "text/plain": [
       "['cat', 'dog']"
      ]
     },
     "execution_count": 99,
     "metadata": {},
     "output_type": "execute_result"
    }
   ],
   "source": [
    "my_string = \"I want to have a pet. But I don't know if I want 2 cats, 1 dog or a bird.\"\n",
    "re.findall(r\"\\d+\\s(cat|dog|bird)\", my_string)"
   ]
  },
  {
   "cell_type": "code",
   "execution_count": 100,
   "metadata": {},
   "outputs": [
    {
     "data": {
      "text/plain": [
       "[('2', 'cat'), ('1', 'dog')]"
      ]
     },
     "execution_count": 100,
     "metadata": {},
     "output_type": "execute_result"
    }
   ],
   "source": [
    "re.findall(r\"(\\d)+\\s(cat|dog|bird)\", my_string)"
   ]
  },
  {
   "cell_type": "markdown",
   "metadata": {},
   "source": [
    "3. Non-capturing groups"
   ]
  },
  {
   "cell_type": "code",
   "execution_count": 101,
   "metadata": {},
   "outputs": [
    {
     "data": {
      "text/plain": [
       "['042-980', '434-425']"
      ]
     },
     "execution_count": 101,
     "metadata": {},
     "output_type": "execute_result"
    }
   ],
   "source": [
    "my_string = \"John Smith: 34-34-34-042-980, Rebeca Smith: 10-10-10-434-425\"\n",
    "re.findall(r\"(?:\\d{2}-){3}(\\d{3}-\\d{3})\", my_string)"
   ]
  },
  {
   "cell_type": "code",
   "execution_count": 102,
   "metadata": {},
   "outputs": [
    {
     "data": {
      "text/plain": [
       "['23', '24']"
      ]
     },
     "execution_count": 102,
     "metadata": {},
     "output_type": "execute_result"
    }
   ],
   "source": [
    "my_date = \"Today is 23rd May 2019. Tomorrow is 24th May 19.\"\n",
    "re.findall(r\"(\\d+)(?:th|rd)\", my_date)"
   ]
  },
  {
   "cell_type": "markdown",
   "metadata": {},
   "source": [
    "Example 1:\n",
    "\n",
    "Match and capture the verb and the object."
   ]
  },
  {
   "cell_type": "code",
   "execution_count": 103,
   "metadata": {},
   "outputs": [
    {
     "name": "stdout",
     "output_type": "stream",
     "text": [
      "Positive comments found [('love', 'concert', 'The Book of Souls World Tour')]\n",
      "Positive comments found [('enjoy', 'movie', 'Wreck-It Ralph')]\n",
      "Positive comments found [('like', 'movie', 'Wish Upon a Star')]\n"
     ]
    }
   ],
   "source": [
    "sentiment_analysis = [\n",
    "    'I totally love the concert The Book of Souls World Tour. It kinda amazing!',\\\n",
    "    'I enjoy the movie Wreck-It Ralph. I watched with my boyfriend.',\\\n",
    "    \"I still like the movie Wish Upon a Star. Too bad Disney doesn't show it anymore.\"\n",
    "]\n",
    "\n",
    "regex_positive = r\"(love|like|enjoy).+?(movie|concert)\\s(.+?)\\.\"\n",
    "\n",
    "for tweet in sentiment_analysis:\n",
    "    positive_matches = re.findall(regex_positive, tweet)\n",
    "    print(\"Positive comments found {}\".format(positive_matches))"
   ]
  },
  {
   "cell_type": "markdown",
   "metadata": {},
   "source": [
    "Example 2:\n",
    "\n",
    "Match the verb and the object but only capture the verb."
   ]
  },
  {
   "cell_type": "code",
   "execution_count": 104,
   "metadata": {},
   "outputs": [
    {
     "name": "stdout",
     "output_type": "stream",
     "text": [
      "Negative comments found [('dislike', 'The cabin and the ant')]\n",
      "Negative comments found [('disapprove', 'Honest with you')]\n",
      "Negative comments found [('dislike', 'After twelve Tour')]\n"
     ]
    }
   ],
   "source": [
    "sentiment_analysis = [\n",
    "    'That was horrible! I really dislike the movie The cabin and the ant. So boring.',\\\n",
    "    \"I disapprove the movie Honest with you. It's full of cliches.\",\\\n",
    "    'I dislike very much the concert After twelve Tour. The sound was horrible.'\n",
    "]\n",
    "\n",
    "regex_negative = r\"(hate|dislike|disapprove).+?(?:movie|concert)\\s(.+?)\\.\"\n",
    "\n",
    "for tweet in sentiment_analysis:\n",
    "    negative_matches = re.findall(regex_negative, tweet)\n",
    "    print(\"Negative comments found {}\".format(negative_matches))"
   ]
  },
  {
   "cell_type": "markdown",
   "metadata": {},
   "source": [
    "### 4.3 - Backreferences\n",
    "\n",
    "* Numbered groups: give a name to groups - `(?P<name>regex)`\n",
    "* Using numbered capturing groups to reference back to a group"
   ]
  },
  {
   "cell_type": "markdown",
   "metadata": {},
   "source": [
    "4.3.1. Numbered groups"
   ]
  },
  {
   "cell_type": "code",
   "execution_count": 105,
   "metadata": {},
   "outputs": [
    {
     "name": "stdout",
     "output_type": "stream",
     "text": [
      "2008\n",
      "12-03-2008\n"
     ]
    }
   ],
   "source": [
    "text = \"Python 3.0 was released on 12-03-2008.\"\n",
    "information = re.search('(\\d{1,2})-(\\d{2})-(\\d{4})', text)\n",
    "\n",
    "print(\n",
    "    information.group(3),\n",
    "    information.group(0),\n",
    "    sep = \"\\n\"\n",
    ")"
   ]
  },
  {
   "cell_type": "code",
   "execution_count": 106,
   "metadata": {},
   "outputs": [
    {
     "name": "stdout",
     "output_type": "stream",
     "text": [
      "Austin\n",
      "78701\n"
     ]
    }
   ],
   "source": [
    "text = \"Austin, 78701\"\n",
    "cities = re.search(r\"(?P<city>[A-Za-z]+).*?(?P<zipcode>\\d{5})\", text)\n",
    "\n",
    "print(\n",
    "    cities.group(\"city\"),\n",
    "    cities.group(\"zipcode\"),\n",
    "    sep = \"\\n\"\n",
    ")"
   ]
  },
  {
   "cell_type": "markdown",
   "metadata": {},
   "source": [
    "4.3.2 Using numbered capturing groups to reference back to a group\n",
    "\n",
    "`\\1` means find the string that repeats the group before ONCE more"
   ]
  },
  {
   "cell_type": "code",
   "execution_count": 107,
   "metadata": {},
   "outputs": [
    {
     "name": "stdout",
     "output_type": "stream",
     "text": [
      "['happy']\n",
      "I wish you a happy birthday!\n"
     ]
    }
   ],
   "source": [
    "sentence = \"I wish you a happy happy birthday!\"\n",
    "\n",
    "print(\n",
    "    re.findall(r\"(\\w+)\\s\\1\", sentence),\n",
    "    re.sub(r\"(\\w+)\\s\\1\", r\"\\1\", sentence),\n",
    "    sep = \"\\n\"\n",
    ")"
   ]
  },
  {
   "cell_type": "code",
   "execution_count": 108,
   "metadata": {},
   "outputs": [
    {
     "data": {
      "text/plain": [
       "['23434']"
      ]
     },
     "execution_count": 108,
     "metadata": {},
     "output_type": "execute_result"
    }
   ],
   "source": [
    "sentence = \"Your new code number is 23434. Please, enter 23434 to open the door.\"\n",
    "re.findall(r\"(?P<code>\\d{5}).*?(?P=code)\", sentence)"
   ]
  },
  {
   "cell_type": "code",
   "execution_count": 109,
   "metadata": {},
   "outputs": [
    {
     "data": {
      "text/plain": [
       "\"This app is not working! It's repeating the last word.\""
      ]
     },
     "execution_count": 109,
     "metadata": {},
     "output_type": "execute_result"
    }
   ],
   "source": [
    "sentence = \"This app is not working! It's repeating the last word word.\"\n",
    "re.sub(r\"(?P<word>\\w+)\\s(?P=word)\", r\"\\g<word>\", sentence)"
   ]
  },
  {
   "cell_type": "markdown",
   "metadata": {},
   "source": [
    "Example 1:\n",
    "\n",
    "The dates appear as `Signed on 05/24/2016` (`05` indicating the month, `24` the day). You decide to use capturing groups to extract this information. Also, you would like to retrieve that information so you can store it separately in different variables."
   ]
  },
  {
   "cell_type": "code",
   "execution_count": 110,
   "metadata": {},
   "outputs": [
    {
     "name": "stdout",
     "output_type": "stream",
     "text": [
      "Our first contract is dated back to 2001.Particularly, the day 25 of the month 03.\n"
     ]
    }
   ],
   "source": [
    "contract = 'Provider will invoice Client for Services performed within 30 days of\\\n",
    "performance.  Client will pay Provider as set forth in each Statement of Work within\\\n",
    "30 days of receipt and acceptance of such invoice. It is understood that payments to\\\n",
    "Provider for services rendered shall be made in full as agreed, without any deductions\\\n",
    "for taxes of any kind whatsoever, in conformity with Provider’s status as an independent\\\n",
    "contractor. Signed on 03/25/2001.'\n",
    "\n",
    "regex_dates = r\"Signed\\son\\s(\\d{2})/(\\d{2})/(\\d{4})\"\n",
    "dates = re.search(regex_dates, contract)\n",
    "\n",
    "signature = {\n",
    "    \"day\": dates.group(2),\n",
    "    \"month\": dates.group(1),\n",
    "    \"year\": dates.group(3)\n",
    "}\n",
    "\n",
    "print(\"Our first contract is dated back to {data[year]}.\\\n",
    "Particularly, the day {data[day]} of the month {data[month]}.\".format(data=signature))"
   ]
  },
  {
   "cell_type": "markdown",
   "metadata": {},
   "source": [
    "Example 2:\n",
    "\n",
    "You have an example of a string containing HTML tags:\n",
    "\n",
    "`<title>The Data Science Company</title>`\n",
    "\n",
    "You learn that an opening HTML tag is always at the beginning of the string. It appears inside `<>`. A closing tag also appears inside `<>`, but it is preceded by `/`.\n",
    "\n",
    "You also remember that capturing groups can be referenced using numbers, e.g `\\4`."
   ]
  },
  {
   "cell_type": "code",
   "execution_count": 112,
   "metadata": {},
   "outputs": [
    {
     "name": "stdout",
     "output_type": "stream",
     "text": [
      "Your tag 'body' is closed\n",
      "Your tag 'article' is closed\n",
      "Close your 'nav' tag!\n"
     ]
    }
   ],
   "source": [
    "html_tags = ['<body>Welcome to our course! It would be an awesome experience</body>',\\\n",
    "             '<article>To be a data scientist, you need to have knowledge in statistics\\\n",
    "             and mathematics</article>', '<nav>About me Links Contact me!'\n",
    "]\n",
    "\n",
    "for string in html_tags:\n",
    "    # Complete the regex and find if it matches a closed HTML tags\n",
    "    match_tag =  re.match(r\"<(\\w+)>.*?</\\1>\", string)\n",
    " \n",
    "    if match_tag:\n",
    "        print(\"Your tag '{}' is closed\".format(match_tag.group(1))) \n",
    "    else:\n",
    "        notmatch_tag = re.match(r\"<(\\w+)>\", string)\n",
    "        print(\"Close your '{}' tag!\".format(notmatch_tag.group(1)))"
   ]
  },
  {
   "cell_type": "markdown",
   "metadata": {},
   "source": [
    "Example 3:\n",
    "\n",
    "If you want to find a match for `Awesoooome`. You first need to capture `Awes`. Then, match `o` and reference the same character back, and then, `me`."
   ]
  },
  {
   "cell_type": "code",
   "execution_count": 113,
   "metadata": {},
   "outputs": [
    {
     "name": "stdout",
     "output_type": "stream",
     "text": [
      "Elongated word found: horrible\n",
      "Elongated word found: disapprove\n",
      "Elongated word found: horrible\n"
     ]
    }
   ],
   "source": [
    "sentiment_anlaysis = [\n",
    "    '@marykatherine_q i know! I heard it this morning and wondered the same thing.\\\n",
    "    Moscooooooow is so behind the times', 'Staying at a friends house...neighborrrrrrrs\\\n",
    "    are so loud-having a party', 'Just woke up an already have read some e-mail'\n",
    "]\n",
    "\n",
    "regex_elongated = r\"\\w+(\\w)\\1+\\w*\"\n",
    "\n",
    "for tweet in sentiment_analysis:\n",
    "\tmatch_elongated = re.search(regex_elongated, tweet)\n",
    "    \n",
    "\tif match_elongated:\n",
    "\t\telongated_word = match_elongated.group(0)\n",
    "        \n",
    "\t\tprint(\"Elongated word found: {word}\".format(word=elongated_word))\n",
    "\telse:\n",
    "\t\tprint(\"No elongated word found\") "
   ]
  },
  {
   "cell_type": "markdown",
   "metadata": {},
   "source": [
    "### 4.4 - Lookaround\n",
    "\n",
    "* Look-ahead: Checks that the first part of the expression is (not) followed by the lookahead expression\n",
    " + Positive look-ahead - `(?=regex)`\n",
    " + Negative look-ahead - `(?!regex)`\n",
    "* Look-behind: Get all the matches that are preceded or not by a specic pattern.\n",
    " + Positive look-behind - `(?<=regex)`\n",
    " + Negative look-behind - `(?<!regex)`"
   ]
  },
  {
   "cell_type": "markdown",
   "metadata": {},
   "source": [
    "4.4.1 Positive look-ahead, `(?=regex)`\n",
    "\n",
    "Find all text file followed by `transferred`"
   ]
  },
  {
   "cell_type": "code",
   "execution_count": 114,
   "metadata": {},
   "outputs": [
    {
     "data": {
      "text/plain": [
       "['tweets.txt', 'mypass.txt']"
      ]
     },
     "execution_count": 114,
     "metadata": {},
     "output_type": "execute_result"
    }
   ],
   "source": [
    "my_text = \"tweets.txt transferred, mypass.txt transferred, keywords.txt error\"\n",
    "re.findall(r\"\\w+\\.txt(?=\\stransferred)\", my_text)"
   ]
  },
  {
   "cell_type": "markdown",
   "metadata": {},
   "source": [
    "4.4.2 Negative look-ahed,  `(?!regex)`\n",
    "\n",
    "Find all text file NOT followed by `transferred`"
   ]
  },
  {
   "cell_type": "code",
   "execution_count": 115,
   "metadata": {},
   "outputs": [
    {
     "data": {
      "text/plain": [
       "['keywords.txt']"
      ]
     },
     "execution_count": 115,
     "metadata": {},
     "output_type": "execute_result"
    }
   ],
   "source": [
    "my_text = \"tweets.txt transferred, mypass.txt transferred, keywords.txt error\"\n",
    "re.findall(r\"\\w+\\.txt(?!\\stransferred)\", my_text)"
   ]
  },
  {
   "cell_type": "markdown",
   "metadata": {},
   "source": [
    "4.4.3 Positive look-behind, `(?<=regex)`\n",
    "\n",
    "Find all words after `Member`"
   ]
  },
  {
   "cell_type": "code",
   "execution_count": 117,
   "metadata": {},
   "outputs": [
    {
     "data": {
      "text/plain": [
       "['Angus Young', 'Chris Slade']"
      ]
     },
     "execution_count": 117,
     "metadata": {},
     "output_type": "execute_result"
    }
   ],
   "source": [
    "my_text = \"Member: Angus Young, Member: Chris Slade, Past: Malcolm Young, Past: Cliff Williams.\"\n",
    "re.findall(r\"(?<=Member:\\s)\\w+\\s\\w+\", my_text)"
   ]
  },
  {
   "cell_type": "markdown",
   "metadata": {},
   "source": [
    "4.4.4 Negative look-behind, `(?<!regex)`\n",
    "\n",
    "Find all words NOT after `brown`"
   ]
  },
  {
   "cell_type": "code",
   "execution_count": 116,
   "metadata": {},
   "outputs": [
    {
     "data": {
      "text/plain": [
       "['cat']"
      ]
     },
     "execution_count": 116,
     "metadata": {},
     "output_type": "execute_result"
    }
   ],
   "source": [
    "my_text = \"My white cat sat at the table. However, my brown dog was lying on the couch.\"\n",
    "re.findall(r\"(?<!brown\\s)(cat|dog)\", my_text)"
   ]
  },
  {
   "cell_type": "markdown",
   "metadata": {},
   "source": [
    "Example 1:\n",
    "\n",
    "1. Get all the words that are **followed** by the word `python` in `sentiment_analysis`.\n",
    "2. Get all the words that are **preceded** by the word `python` or `Python` in `sentiment_analysis`. "
   ]
  },
  {
   "cell_type": "code",
   "execution_count": 118,
   "metadata": {},
   "outputs": [
    {
     "name": "stdout",
     "output_type": "stream",
     "text": [
      "['excellent', 'Excellent']\n",
      "['skills']\n"
     ]
    }
   ],
   "source": [
    "sentiment_analysis = 'You need excellent python skills to be a data scientist.\\\n",
    "Must be! Excellent python'\n",
    "\n",
    "look_ahead = re.findall(r\"\\w+(?=\\spython)\", sentiment_analysis)\n",
    "look_behind = re.findall(r\"(?<=[pP]ython\\s)\\w+\", sentiment_analysis)\n",
    "\n",
    "print(look_ahead, look_behind, sep = \"\\n\")"
   ]
  },
  {
   "cell_type": "markdown",
   "metadata": {},
   "source": [
    "Example 2:\n",
    "\n",
    "The phone numbers in the list have the structure:\n",
    "\n",
    "- Optional area code: 3 numbers\n",
    "- Prefix: 4 numbers\n",
    "- Line number: 6 numbers\n",
    "- Optional extension: 2 numbers\n",
    "\n",
    "E.g. `654-8764-439434-01`\n",
    "\n",
    "1. Get all cell phones numbers that are not preceded by the optional area code.\n",
    "2. Get all the cell phones numbers that are not followed by the optional extension."
   ]
  },
  {
   "cell_type": "code",
   "execution_count": 121,
   "metadata": {},
   "outputs": [
    {
     "name": "stdout",
     "output_type": "stream",
     "text": [
      "['4564-646464-01']\n",
      "[]\n",
      "['6476-579052-01']\n"
     ]
    }
   ],
   "source": [
    "cellphones = ['4564-646464-01', '345-5785-544245', '6476-579052-01']\n",
    "\n",
    "for phone in cellphones:\n",
    "    # Get all phone numbers not preceded by area code\n",
    "    number = re.findall(r\"(?<!\\d{3}-)\\d{4}-\\d{6}-\\d{2}\", phone)\n",
    "    print(number)"
   ]
  },
  {
   "cell_type": "code",
   "execution_count": 120,
   "metadata": {},
   "outputs": [
    {
     "name": "stdout",
     "output_type": "stream",
     "text": [
      "[]\n",
      "['345-5785-544245']\n",
      "[]\n"
     ]
    }
   ],
   "source": [
    "for phone in cellphones:\n",
    "    # Get all phone numbers not followed by optional extension\n",
    "    number = re.findall(r\"\\d{3}-\\d{4}-\\d{6}(?!-\\d{2})\", phone)\n",
    "    print(number)"
   ]
  }
 ],
 "metadata": {
  "kernelspec": {
   "display_name": "Python 3",
   "language": "python",
   "name": "python3"
  },
  "language_info": {
   "codemirror_mode": {
    "name": "ipython",
    "version": 3
   },
   "file_extension": ".py",
   "mimetype": "text/x-python",
   "name": "python",
   "nbconvert_exporter": "python",
   "pygments_lexer": "ipython3",
   "version": "3.7.4"
  }
 },
 "nbformat": 4,
 "nbformat_minor": 2
}
